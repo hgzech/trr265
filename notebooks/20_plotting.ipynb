{
 "cells": [
  {
   "cell_type": "code",
   "execution_count": null,
   "id": "c976499f-e466-4ddf-a983-f1bca64e3b98",
   "metadata": {},
   "outputs": [],
   "source": [
    "# default_exp plotting"
   ]
  },
  {
   "cell_type": "markdown",
   "id": "5dcc5595-56ec-411f-9fec-cff0e01d3bfc",
   "metadata": {},
   "source": [
    "# Plotting"
   ]
  },
  {
   "cell_type": "code",
   "execution_count": null,
   "id": "00697450-a50e-4717-af9e-75921d3aab68",
   "metadata": {},
   "outputs": [],
   "source": [
    "%load_ext autoreload\n",
    "%autoreload 2\n",
    "%matplotlib inline\n",
    "%config InlineBackend.figure_format = 'retina'\n",
    "%reload_ext rpy2.ipython"
   ]
  },
  {
   "cell_type": "code",
   "execution_count": null,
   "id": "63c0f461-5d2e-4497-b434-80fbf83660ee",
   "metadata": {},
   "outputs": [
    {
     "name": "stdout",
     "output_type": "stream",
     "text": [
      "The autoreload extension is already loaded. To reload it, use:\n",
      "  %reload_ext autoreload\n"
     ]
    }
   ],
   "source": [
    "#export\n",
    "import seaborn as sns\n",
    "import pandas as pd\n",
    "from matplotlib import pyplot as plt\n",
    "custom_params = {\"axes.spines.right\": False, \"axes.spines.top\": False}\n",
    "sns.set_theme(style=\"white\", font_scale = 1.3, rc=custom_params)"
   ]
  },
  {
   "cell_type": "markdown",
   "id": "ef2df3d6-e046-4fb9-be99-65d8d420dccf",
   "metadata": {},
   "source": [
    "## ICC comparison plot"
   ]
  },
  {
   "cell_type": "code",
   "execution_count": null,
   "id": "d7906016-b0c9-463c-aba4-2a309e9b4757",
   "metadata": {},
   "outputs": [],
   "source": [
    "#export\n",
    "def icc_comparison_plot(iccs, \n",
    "                        icc_type = \"ICC1\",\n",
    "                       method_labels = {'mean':'Based on mean method',\n",
    "                      'trial_sep':'Based on predicted values (separate models)',\n",
    "                      'trial_joint':'Based on predicted values (joint model)',\n",
    "                      'model_calc':'Based on model-calculated variances'\n",
    "                      }, \n",
    "                        qualitative_labels = False, \n",
    "                        x_offset = 3.5, \n",
    "                        font_scale = 1.3, \n",
    "                        **catplot_kwgs):\n",
    "    custom_params = {\"axes.spines.right\": False, \"axes.spines.top\": False}\n",
    "    sns.set_theme(style=\"white\", font_scale = font_scale, rc=custom_params)\n",
    "    icc_type = \"ICC1\"\n",
    "    plot_df = pd.DataFrame({})\n",
    "    for k, v in iccs.items():\n",
    "        if 'iccs' in v.keys():\n",
    "            icc = v['iccs'][0].query('type==\"%s\"'%icc_type)['ICC'].iloc[0]\n",
    "        else:\n",
    "            icc = v['icc']\n",
    "        plot_df.loc[k,'icc'] = icc\n",
    "        \n",
    "    if 'aspect' not in catplot_kwgs.keys():\n",
    "        catplot_kwgs['aspect'] = 1.3\n",
    "    if 'height' not in catplot_kwgs.keys():\n",
    "        catplot_kwgs['height'] = 6\n",
    "\n",
    "    plot_df = plot_df.reset_index()\n",
    "    plot_df.rename(columns = {'index':'category','icc':\"Test-retest reliability (%s)\"%icc_type}, inplace = True)\n",
    "    plot_df['trial_type'] = plot_df.category.apply(lambda x: x.split('_')[-1])\n",
    "    plot_df['Method'] = plot_df.category.apply(lambda x: '_'.join(x.split('_')[:-1]))\n",
    "    plot_df.Method.replace(method_labels, inplace = True)\n",
    "    g = sns.catplot(x = \"trial_type\",       # x variable name\n",
    "                y = \"Test-retest reliability (%s)\"%icc_type,       # y variable name\n",
    "                hue = \"Method\",  # group variable name\n",
    "                data = plot_df,     # dataframe to plot\n",
    "                kind = \"bar\",\n",
    "                    legend = False,\n",
    "               ci = None,\n",
    "                **catplot_kwgs)\n",
    "    g.set(ylim=(0, 1))\n",
    "    ax = g.axes[0][0]\n",
    "    \n",
    "    if qualitative_labels:\n",
    "        y_offset = -.07\n",
    "        x_offset = x_offset\n",
    "        alignment = 'left'\n",
    "        plt.axhline(.5, color = 'grey', linestyle = '--',xmax = 1)\n",
    "        plt.axhline(.75, color = 'grey', linestyle = '--',xmax = 1)\n",
    "        plt.annotate(\"poor reliability\", (0+x_offset,.5+y_offset),horizontalalignment = alignment)\n",
    "        plt.annotate(\"moderate reliability\", (0+ x_offset,.67+y_offset),horizontalalignment = alignment)\n",
    "        plt.annotate(\"good reliability\", (0+x_offset,.86+y_offset),horizontalalignment = alignment)\n",
    "    plt.legend(loc='upper left', bbox_to_anchor=(1, 1.1))\n",
    "\n",
    "    return g"
   ]
  }
 ],
 "metadata": {
  "kernelspec": {
   "display_name": "Python 3 (ipykernel)",
   "language": "python",
   "name": "python3"
  }
 },
 "nbformat": 4,
 "nbformat_minor": 5
}
