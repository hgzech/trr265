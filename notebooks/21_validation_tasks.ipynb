{
 "cells": [
  {
   "cell_type": "code",
   "execution_count": null,
   "id": "c976499f-e466-4ddf-a983-f1bca64e3b98",
   "metadata": {},
   "outputs": [],
   "source": [
    "# default_exp validation_task"
   ]
  },
  {
   "cell_type": "markdown",
   "id": "5dcc5595-56ec-411f-9fec-cff0e01d3bfc",
   "metadata": {},
   "source": [
    "# Validation tasks"
   ]
  },
  {
   "cell_type": "code",
   "execution_count": null,
   "id": "439b0844-2e9e-4671-93e7-f2550eb8c53d",
   "metadata": {},
   "outputs": [],
   "source": [
    "#export\n",
    "%load_ext autoreload\n",
    "%autoreload 2\n",
    "from trr265.data_provider import DataProvider\n",
    "import json\n",
    "import pandas as pd\n",
    "import seaborn as sns"
   ]
  },
  {
   "cell_type": "code",
   "execution_count": null,
   "id": "65c55fc5-ad30-4027-8cc3-ef37d66c28a0",
   "metadata": {},
   "outputs": [],
   "source": [
    "dp = DataProvider('/Users/hilmarzech/Projects/trr265/trr265/data/')\n",
    "ba = dp.get_ba_data()"
   ]
  },
  {
   "cell_type": "markdown",
   "id": "ebe4232b-9e5f-438d-a355-8e2a52d5d5c9",
   "metadata": {},
   "source": [
    "## Stop signal task"
   ]
  },
  {
   "cell_type": "code",
   "execution_count": null,
   "id": "d48950fc-7f90-42eb-a2b5-37beaf68e361",
   "metadata": {},
   "outputs": [
    {
     "data": {
      "text/html": [
       "<div>\n",
       "<style scoped>\n",
       "    .dataframe tbody tr th:only-of-type {\n",
       "        vertical-align: middle;\n",
       "    }\n",
       "\n",
       "    .dataframe tbody tr th {\n",
       "        vertical-align: top;\n",
       "    }\n",
       "\n",
       "    .dataframe thead th {\n",
       "        text-align: right;\n",
       "    }\n",
       "</style>\n",
       "<table border=\"1\" class=\"dataframe\">\n",
       "  <thead>\n",
       "    <tr style=\"text-align: right;\">\n",
       "      <th></th>\n",
       "      <th>participant_id</th>\n",
       "      <th>bx_mrt_sst</th>\n",
       "    </tr>\n",
       "  </thead>\n",
       "  <tbody>\n",
       "    <tr>\n",
       "      <th>122</th>\n",
       "      <td>82</td>\n",
       "      <td>nicht durchgeführt</td>\n",
       "    </tr>\n",
       "    <tr>\n",
       "      <th>147</th>\n",
       "      <td>85</td>\n",
       "      <td>Probandin ist hin und wieder bei der Aufgabe e...</td>\n",
       "    </tr>\n",
       "    <tr>\n",
       "      <th>285</th>\n",
       "      <td>119</td>\n",
       "      <td>ohne, da Proband zu spät und Scanningzeit abge...</td>\n",
       "    </tr>\n",
       "    <tr>\n",
       "      <th>382</th>\n",
       "      <td>149</td>\n",
       "      <td>2. Sccnt, Localizer, fieldmap da VP vor SST no...</td>\n",
       "    </tr>\n",
       "    <tr>\n",
       "      <th>486</th>\n",
       "      <td>197</td>\n",
       "      <td>Verzögerung, da Keyboard in presentation falsc...</td>\n",
       "    </tr>\n",
       "    <tr>\n",
       "      <th>...</th>\n",
       "      <td>...</td>\n",
       "      <td>...</td>\n",
       "    </tr>\n",
       "    <tr>\n",
       "      <th>13317</th>\n",
       "      <td>11549</td>\n",
       "      <td>SST abgebrochen und neu gestartet wegen Brille</td>\n",
       "    </tr>\n",
       "    <tr>\n",
       "      <th>13360</th>\n",
       "      <td>11558</td>\n",
       "      <td>Proband hatte Tastatur verkehrt herum</td>\n",
       "    </tr>\n",
       "    <tr>\n",
       "      <th>14044</th>\n",
       "      <td>11770</td>\n",
       "      <td>Spiegel wurde aufgesetzt- Proband wurde dann e...</td>\n",
       "    </tr>\n",
       "    <tr>\n",
       "      <th>14511</th>\n",
       "      <td>11840</td>\n",
       "      <td>nicht durchgeführt, da keine Presentation Lizenz</td>\n",
       "    </tr>\n",
       "    <tr>\n",
       "      <th>14570</th>\n",
       "      <td>11858</td>\n",
       "      <td>konnte nur behavioral durchgeführt werden, da ...</td>\n",
       "    </tr>\n",
       "  </tbody>\n",
       "</table>\n",
       "<p>67 rows × 2 columns</p>\n",
       "</div>"
      ],
      "text/plain": [
       "      participant_id                                         bx_mrt_sst\n",
       "122               82                                 nicht durchgeführt\n",
       "147               85  Probandin ist hin und wieder bei der Aufgabe e...\n",
       "285              119  ohne, da Proband zu spät und Scanningzeit abge...\n",
       "382              149  2. Sccnt, Localizer, fieldmap da VP vor SST no...\n",
       "486              197  Verzögerung, da Keyboard in presentation falsc...\n",
       "...              ...                                                ...\n",
       "13317          11549     SST abgebrochen und neu gestartet wegen Brille\n",
       "13360          11558              Proband hatte Tastatur verkehrt herum\n",
       "14044          11770  Spiegel wurde aufgesetzt- Proband wurde dann e...\n",
       "14511          11840   nicht durchgeführt, da keine Presentation Lizenz\n",
       "14570          11858  konnte nur behavioral durchgeführt werden, da ...\n",
       "\n",
       "[67 rows x 2 columns]"
      ]
     },
     "execution_count": null,
     "metadata": {},
     "output_type": "execute_result"
    }
   ],
   "source": [
    "ba[['participant_id','bx_mrt_sst']].dropna()"
   ]
  },
  {
   "cell_type": "markdown",
   "id": "c7b54934-4278-4368-a698-323c5591b546",
   "metadata": {},
   "source": [
    "## Digit span forward"
   ]
  },
  {
   "cell_type": "code",
   "execution_count": null,
   "id": "7152305b-93ea-43c7-9f85-6e11e8d2c5e1",
   "metadata": {},
   "outputs": [
    {
     "data": {
      "text/html": [
       "<div>\n",
       "<style scoped>\n",
       "    .dataframe tbody tr th:only-of-type {\n",
       "        vertical-align: middle;\n",
       "    }\n",
       "\n",
       "    .dataframe tbody tr th {\n",
       "        vertical-align: top;\n",
       "    }\n",
       "\n",
       "    .dataframe thead th {\n",
       "        text-align: right;\n",
       "    }\n",
       "</style>\n",
       "<table border=\"1\" class=\"dataframe\">\n",
       "  <thead>\n",
       "    <tr style=\"text-align: right;\">\n",
       "      <th></th>\n",
       "      <th>participant_id</th>\n",
       "      <th>bx_dsfw_point</th>\n",
       "    </tr>\n",
       "  </thead>\n",
       "  <tbody>\n",
       "    <tr>\n",
       "      <th>0</th>\n",
       "      <td>53</td>\n",
       "      <td>11.0</td>\n",
       "    </tr>\n",
       "    <tr>\n",
       "      <th>17</th>\n",
       "      <td>67</td>\n",
       "      <td>13.0</td>\n",
       "    </tr>\n",
       "    <tr>\n",
       "      <th>42</th>\n",
       "      <td>75</td>\n",
       "      <td>11.0</td>\n",
       "    </tr>\n",
       "    <tr>\n",
       "      <th>44</th>\n",
       "      <td>75</td>\n",
       "      <td>12.0</td>\n",
       "    </tr>\n",
       "    <tr>\n",
       "      <th>45</th>\n",
       "      <td>75</td>\n",
       "      <td>11.0</td>\n",
       "    </tr>\n",
       "    <tr>\n",
       "      <th>...</th>\n",
       "      <td>...</td>\n",
       "      <td>...</td>\n",
       "    </tr>\n",
       "    <tr>\n",
       "      <th>15729</th>\n",
       "      <td>12205</td>\n",
       "      <td>11.0</td>\n",
       "    </tr>\n",
       "    <tr>\n",
       "      <th>15749</th>\n",
       "      <td>12215</td>\n",
       "      <td>9.0</td>\n",
       "    </tr>\n",
       "    <tr>\n",
       "      <th>15771</th>\n",
       "      <td>12240</td>\n",
       "      <td>9.0</td>\n",
       "    </tr>\n",
       "    <tr>\n",
       "      <th>15788</th>\n",
       "      <td>12251</td>\n",
       "      <td>11.0</td>\n",
       "    </tr>\n",
       "    <tr>\n",
       "      <th>15804</th>\n",
       "      <td>12271</td>\n",
       "      <td>9.0</td>\n",
       "    </tr>\n",
       "  </tbody>\n",
       "</table>\n",
       "<p>1338 rows × 2 columns</p>\n",
       "</div>"
      ],
      "text/plain": [
       "      participant_id  bx_dsfw_point\n",
       "0                 53           11.0\n",
       "17                67           13.0\n",
       "42                75           11.0\n",
       "44                75           12.0\n",
       "45                75           11.0\n",
       "...              ...            ...\n",
       "15729          12205           11.0\n",
       "15749          12215            9.0\n",
       "15771          12240            9.0\n",
       "15788          12251           11.0\n",
       "15804          12271            9.0\n",
       "\n",
       "[1338 rows x 2 columns]"
      ]
     },
     "execution_count": null,
     "metadata": {},
     "output_type": "execute_result"
    }
   ],
   "source": [
    "ba[['participant_id','bx_dsfw_point']].dropna()"
   ]
  },
  {
   "cell_type": "markdown",
   "id": "158779a3-a414-4bcb-af7a-e49dca2d69c6",
   "metadata": {},
   "source": [
    "## Digit span backward"
   ]
  },
  {
   "cell_type": "code",
   "execution_count": null,
   "id": "94386d82-c4fb-4453-a925-58cd6f3b3cfe",
   "metadata": {},
   "outputs": [
    {
     "data": {
      "text/html": [
       "<div>\n",
       "<style scoped>\n",
       "    .dataframe tbody tr th:only-of-type {\n",
       "        vertical-align: middle;\n",
       "    }\n",
       "\n",
       "    .dataframe tbody tr th {\n",
       "        vertical-align: top;\n",
       "    }\n",
       "\n",
       "    .dataframe thead th {\n",
       "        text-align: right;\n",
       "    }\n",
       "</style>\n",
       "<table border=\"1\" class=\"dataframe\">\n",
       "  <thead>\n",
       "    <tr style=\"text-align: right;\">\n",
       "      <th></th>\n",
       "      <th>participant_id</th>\n",
       "      <th>bx_dsbw_point</th>\n",
       "    </tr>\n",
       "  </thead>\n",
       "  <tbody>\n",
       "    <tr>\n",
       "      <th>0</th>\n",
       "      <td>53</td>\n",
       "      <td>6.0</td>\n",
       "    </tr>\n",
       "    <tr>\n",
       "      <th>17</th>\n",
       "      <td>67</td>\n",
       "      <td>9.0</td>\n",
       "    </tr>\n",
       "    <tr>\n",
       "      <th>42</th>\n",
       "      <td>75</td>\n",
       "      <td>11.0</td>\n",
       "    </tr>\n",
       "    <tr>\n",
       "      <th>44</th>\n",
       "      <td>75</td>\n",
       "      <td>11.0</td>\n",
       "    </tr>\n",
       "    <tr>\n",
       "      <th>45</th>\n",
       "      <td>75</td>\n",
       "      <td>11.0</td>\n",
       "    </tr>\n",
       "    <tr>\n",
       "      <th>...</th>\n",
       "      <td>...</td>\n",
       "      <td>...</td>\n",
       "    </tr>\n",
       "    <tr>\n",
       "      <th>15729</th>\n",
       "      <td>12205</td>\n",
       "      <td>8.0</td>\n",
       "    </tr>\n",
       "    <tr>\n",
       "      <th>15749</th>\n",
       "      <td>12215</td>\n",
       "      <td>6.0</td>\n",
       "    </tr>\n",
       "    <tr>\n",
       "      <th>15771</th>\n",
       "      <td>12240</td>\n",
       "      <td>8.0</td>\n",
       "    </tr>\n",
       "    <tr>\n",
       "      <th>15788</th>\n",
       "      <td>12251</td>\n",
       "      <td>9.0</td>\n",
       "    </tr>\n",
       "    <tr>\n",
       "      <th>15804</th>\n",
       "      <td>12271</td>\n",
       "      <td>9.0</td>\n",
       "    </tr>\n",
       "  </tbody>\n",
       "</table>\n",
       "<p>1337 rows × 2 columns</p>\n",
       "</div>"
      ],
      "text/plain": [
       "      participant_id  bx_dsbw_point\n",
       "0                 53            6.0\n",
       "17                67            9.0\n",
       "42                75           11.0\n",
       "44                75           11.0\n",
       "45                75           11.0\n",
       "...              ...            ...\n",
       "15729          12205            8.0\n",
       "15749          12215            6.0\n",
       "15771          12240            8.0\n",
       "15788          12251            9.0\n",
       "15804          12271            9.0\n",
       "\n",
       "[1337 rows x 2 columns]"
      ]
     },
     "execution_count": null,
     "metadata": {},
     "output_type": "execute_result"
    }
   ],
   "source": [
    "ba[['participant_id','bx_dsbw_point']].dropna()"
   ]
  },
  {
   "cell_type": "markdown",
   "id": "745d7901-f122-44ce-b50b-f8544151ee30",
   "metadata": {},
   "source": [
    "## Stroop"
   ]
  },
  {
   "cell_type": "code",
   "execution_count": null,
   "id": "6169f338-c4f7-4e9b-95bd-9cd007a7fe2c",
   "metadata": {},
   "outputs": [
    {
     "data": {
      "text/plain": [
       "[{'rt': -1,\n",
       "  'stimulus': '<div class = centerbox><div class = fixation>+</div></div>',\n",
       "  'key_press': -1,\n",
       "  'possible_responses': 'none',\n",
       "  'stim_duration': 500,\n",
       "  'block_duration': 500,\n",
       "  'timing_post_trial': 500,\n",
       "  'trial_id': 'fixation',\n",
       "  'trial_type': 'poldrack-single-stim',\n",
       "  'trial_index': 3,\n",
       "  'time_elapsed': 86421,\n",
       "  'internal_node_id': '0.0-2.0',\n",
       "  'exp_stage': 'practice',\n",
       "  'exp_id': 'stroop',\n",
       "  'full_screen': True,\n",
       "  'focus_shifts': 0},\n",
       " {'rt': 1146,\n",
       "  'correct': True,\n",
       "  'stimulus': '<div class = centerbox><div class = stroop-stim style = \"color:blue\">BLAU</div></div>',\n",
       "  'key_press': 66,\n",
       "  'correct_response': 66,\n",
       "  'possible_responses': [66, 71, 82],\n",
       "  'stim_duration': 1500,\n",
       "  'block_duration': 1500,\n",
       "  'feedback_duration': 500,\n",
       "  'timing_post_trial': 250,\n",
       "  'trial_id': 'stim',\n",
       "  'condition': 'congruent',\n",
       "  'stim_color': 'blue',\n",
       "  'stim_word': 'blue',\n",
       "  'trial_type': 'poldrack-categorize',\n",
       "  'trial_index': 4,\n",
       "  'time_elapsed': 88938,\n",
       "  'internal_node_id': '0.0-3.0',\n",
       "  'exp_stage': 'practice',\n",
       "  'exp_id': 'stroop',\n",
       "  'full_screen': True,\n",
       "  'focus_shifts': 0}]"
      ]
     },
     "execution_count": null,
     "metadata": {},
     "output_type": "execute_result"
    }
   ],
   "source": [
    "with open('../data/raw/stroop_example.json','r') as f:\n",
    "    stroop = json.load(f)\n",
    "json.loads(stroop['data'])[3:5]"
   ]
  },
  {
   "cell_type": "markdown",
   "id": "01e34eeb-7d82-45d2-9623-cf5d0eda11bf",
   "metadata": {},
   "source": [
    "## VBDM"
   ]
  },
  {
   "cell_type": "markdown",
   "id": "31ef8a13-5130-48da-83c5-032c1a154b47",
   "metadata": {},
   "source": [
    "### Delay discounting"
   ]
  },
  {
   "cell_type": "code",
   "execution_count": null,
   "id": "9d58d85b-50aa-4ecf-9f20-14caade27e4e",
   "metadata": {},
   "outputs": [
    {
     "data": {
      "text/plain": [
       "dict_keys(['__header__', '__version__', '__globals__', 'genInfo', 'auxVars', 'aborted', 'T', 'xr', 'dr', 'khi', 'bhi', 'randTrials', 'allOffersDD', 'posSureResp', 'acceptedDD', 'rejectedDD', 'khDD', 'bhDD', 'khvDD', 'bhvDD', 'payout'])"
      ]
     },
     "execution_count": null,
     "metadata": {},
     "output_type": "execute_result"
    }
   ],
   "source": [
    "import scipy.io\n",
    "mat = scipy.io.loadmat('../data/raw/delay_discounting_example.mat')\n",
    "mat.keys()"
   ]
  },
  {
   "cell_type": "markdown",
   "id": "e6f579b7-67aa-4b84-a99b-ad857b2fa30f",
   "metadata": {},
   "source": [
    "#### khDD"
   ]
  },
  {
   "cell_type": "code",
   "execution_count": null,
   "id": "13d5b816-11b1-4604-9a0d-a0f538f164e4",
   "metadata": {},
   "outputs": [
    {
     "data": {
      "image/png": "[encoded data removed]",
      "text/plain": [
       "<Figure size 432x288 with 1 Axes>"
      ]
     },
     "metadata": {
      "needs_background": "light"
     },
     "output_type": "display_data"
    }
   ],
   "source": [
    "pd.Series([x[0] for x in mat['khDD']]).plot()\n",
    "sns.despine()"
   ]
  },
  {
   "cell_type": "markdown",
   "id": "c0b041d1-3526-4a88-9873-852aa9e5f0ba",
   "metadata": {},
   "source": [
    "#### bhDD"
   ]
  },
  {
   "cell_type": "code",
   "execution_count": null,
   "id": "1ffd1f8f-85ff-470e-bc40-37f583c12e43",
   "metadata": {},
   "outputs": [
    {
     "data": {
      "image/png": "[encoded data removed]",
      "text/plain": [
       "<Figure size 432x288 with 1 Axes>"
      ]
     },
     "metadata": {
      "needs_background": "light"
     },
     "output_type": "display_data"
    }
   ],
   "source": [
    "pd.Series([x[0] for x in mat['bhDD']]).plot()\n",
    "sns.despine()"
   ]
  },
  {
   "cell_type": "markdown",
   "id": "e5e08c0f-c564-484f-bf5f-51b4de023371",
   "metadata": {},
   "source": [
    "### Probability discounting (gains)"
   ]
  },
  {
   "cell_type": "code",
   "execution_count": null,
   "id": "e4566eb2-fc62-4f35-a6be-8bfe598b1380",
   "metadata": {},
   "outputs": [
    {
     "data": {
      "text/plain": [
       "dict_keys(['__header__', '__version__', '__globals__', 'genInfo', 'auxVars', 'aborted', 'T', 'xr', 'probs', 'khi', 'bhi', 'randTrials', 'allOffersPDG', 'posSureResp', 'acceptedPDG', 'rejectedPDG', 'khPDG', 'bhPDG', 'khvPDG', 'bhvPDG', 'payout'])"
      ]
     },
     "execution_count": null,
     "metadata": {},
     "output_type": "execute_result"
    }
   ],
   "source": [
    "mat = scipy.io.loadmat('../data/raw/prob_discount_gain_example.mat')\n",
    "mat.keys()"
   ]
  },
  {
   "cell_type": "markdown",
   "id": "4c6dec28-fd6d-4764-b176-e4b75a2b18b0",
   "metadata": {},
   "source": [
    "#### khPDG"
   ]
  },
  {
   "cell_type": "code",
   "execution_count": null,
   "id": "259e79bb-ccfb-4e5f-80d0-2850f04b1033",
   "metadata": {},
   "outputs": [
    {
     "data": {
      "image/png": "[encoded data removed]",
      "text/plain": [
       "<Figure size 432x288 with 1 Axes>"
      ]
     },
     "metadata": {
      "needs_background": "light"
     },
     "output_type": "display_data"
    }
   ],
   "source": [
    "pd.Series([x[0] for x in mat['khPDG']]).plot()\n",
    "sns.despine()"
   ]
  },
  {
   "cell_type": "markdown",
   "id": "8bec979b-464b-4aa7-89ef-899b59dbb0df",
   "metadata": {},
   "source": [
    "#### bhPDG"
   ]
  },
  {
   "cell_type": "code",
   "execution_count": null,
   "id": "c3902ca5-55ef-435a-b528-13e3609889bb",
   "metadata": {},
   "outputs": [
    {
     "data": {
      "image/png": "[encoded data removed]",
      "text/plain": [
       "<Figure size 432x288 with 1 Axes>"
      ]
     },
     "metadata": {
      "needs_background": "light"
     },
     "output_type": "display_data"
    }
   ],
   "source": [
    "pd.Series([x[0] for x in mat['bhPDG']]).plot()\n",
    "sns.despine()"
   ]
  }
 ],
 "metadata": {
  "kernelspec": {
   "display_name": "Python 3 (ipykernel)",
   "language": "python",
   "name": "python3"
  }
 },
 "nbformat": 4,
 "nbformat_minor": 5
}
