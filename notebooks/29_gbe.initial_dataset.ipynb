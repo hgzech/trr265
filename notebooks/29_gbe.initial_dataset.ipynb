{
 "cells": [
  {
   "cell_type": "code",
   "execution_count": null,
   "id": "c976499f-e466-4ddf-a983-f1bca64e3b98",
   "metadata": {},
   "outputs": [],
   "source": [
    "# default_exp gbe.ema_drinking"
   ]
  },
  {
   "cell_type": "markdown",
   "id": "5dcc5595-56ec-411f-9fec-cff0e01d3bfc",
   "metadata": {},
   "source": [
    "# EMA drinking"
   ]
  },
  {
   "cell_type": "code",
   "execution_count": null,
   "id": "a57df932-75bd-4506-a338-e57b7940ec91",
   "metadata": {},
   "outputs": [],
   "source": [
    "update_all_data = False"
   ]
  },
  {
   "cell_type": "code",
   "execution_count": null,
   "id": "10ab1e1e-ded1-4c3e-bb03-24ccbd83c6ca",
   "metadata": {},
   "outputs": [],
   "source": [
    "%load_ext autoreload\n",
    "%autoreload 2\n",
    "%matplotlib inline\n",
    "%config InlineBackend.figure_format = 'retina'\n",
    "%reload_ext rpy2.ipython\n",
    "import seaborn as sns\n",
    "from matplotlib import pyplot as plt\n",
    "custom_params = {\"axes.spines.right\": False, \"axes.spines.top\": False}\n",
    "sns.set_theme(style=\"white\", font_scale = 1.3, rc=custom_params)"
   ]
  },
  {
   "cell_type": "code",
   "execution_count": null,
   "id": "439b0844-2e9e-4671-93e7-f2550eb8c53d",
   "metadata": {},
   "outputs": [
    {
     "name": "stdout",
     "output_type": "stream",
     "text": [
      "The autoreload extension is already loaded. To reload it, use:\n",
      "  %reload_ext autoreload\n"
     ]
    }
   ],
   "source": [
    "#export\n",
    "%load_ext autoreload\n",
    "%autoreload 2\n",
    "from trr265.gbe.ist.data_provider import ISTDataProvider\n",
    "from trr265.gbe.wm.data_provider import WMDataProvider\n",
    "from trr265.gbe.sst.data_provider import SSTDataProvider\n",
    "from trr265.gbe.rtt.data_provider import RTTDataProvider\n",
    "\n",
    "import trr265.gbe.ist.scoring as ist_scoring \n",
    "import trr265.gbe.wm.scoring as wm_scoring \n",
    "import trr265.gbe.sst.scoring as sst_scoring \n",
    "import trr265.gbe.rtt.scoring as rtt_scoring \n",
    "\n",
    "import pandas as pd"
   ]
  },
  {
   "cell_type": "markdown",
   "id": "c9ad245e-a268-4bbe-8df8-288198e7cf53",
   "metadata": {},
   "source": [
    "## Loading the data\n",
    "In this notebook, all tests and examples are run on the initial baseline dataset."
   ]
  },
  {
   "cell_type": "markdown",
   "id": "2bd6efb3-c6eb-47ed-9a73-343c312522e3",
   "metadata": {},
   "source": [
    "### Information sampling task"
   ]
  },
  {
   "cell_type": "code",
   "execution_count": null,
   "id": "69d0ed23-d45f-46cf-945a-35861de5c5e0",
   "metadata": {},
   "outputs": [
    {
     "name": "stderr",
     "output_type": "stream",
     "text": [
      "R[write to console]: Lade nötiges Paket: lme4\n",
      "\n",
      "R[write to console]: Lade nötiges Paket: Matrix\n",
      "\n",
      "R[write to console]: \n",
      "Attache Paket: ‘lmerTest’\n",
      "\n",
      "\n",
      "R[write to console]: Das folgende Objekt ist maskiert ‘package:lme4’:\n",
      "\n",
      "    lmer\n",
      "\n",
      "\n",
      "R[write to console]: Das folgende Objekt ist maskiert ‘package:stats’:\n",
      "\n",
      "    step\n",
      "\n",
      "\n"
     ]
    }
   ],
   "source": [
    "# Getting raw data\n",
    "dp = ISTDataProvider('/Users/hilmarzech/Projects/trr265/trr265/data/')\n",
    "df = dp.get_ist_data(update = update_all_data)\n",
    "# Adding data from redcap\n",
    "df = df.merge(dp.get_gbe_data(columns = ['participant','session_number','is_initial','is_baseline'], update = update_all_data), left_on = 'gbe_index', right_index = True, how = 'left')\n",
    "# Filtering out replication and ema data\n",
    "#df = df.query(\"is_initial and (is_baseline==False)\")\n",
    "df = df.query(\"is_baseline==False\")\n",
    "\n",
    "ist = ist_scoring.get_oversampling_predicted_joint(df)[0]\n",
    "#ist = ist.merge(dp.get_gbe_data(columns = ['participant','session_number']), left_on = 'gbe_index', right_index = True, how = 'left')\n",
    "#ist = ist.groupby('participant').mean()\n",
    "ist = ist.rename(columns = {\"oversampling_predicted_joint\":\"ist_oversampling\"})"
   ]
  },
  {
   "cell_type": "markdown",
   "id": "f38ccab1-9025-4706-81ca-8e13161a52cd",
   "metadata": {},
   "source": [
    "### Working memory task"
   ]
  },
  {
   "cell_type": "code",
   "execution_count": null,
   "id": "b56a5135-8598-4f6d-9758-0930601df18c",
   "metadata": {},
   "outputs": [
    {
     "name": "stdout",
     "output_type": "stream",
     "text": [
      "5 participants used an old version of the task in some of their sessions.  23 sessions (0.61%) were removed from the dataset.\n",
      "37 sessions (0.98%) were removed because participants failed a level two trial.\n"
     ]
    }
   ],
   "source": [
    "# Getting raw data\n",
    "dp = WMDataProvider('/Users/hilmarzech/Projects/trr265/trr265/data/')\n",
    "df = dp.get_wm_data(update = update_all_data)\n",
    "# Adding data from redcap\n",
    "df = df.merge(dp.get_gbe_data(columns = ['participant','session_number','is_initial','is_baseline']), left_on = 'gbe_index', right_index = True, how = 'left')\n",
    "# Filtering out replication and ema data\n",
    "df = df.query(\"is_baseline==False\")\n",
    "# Filtering participants with old app\n",
    "df = dp.filter_old_app_sessions(df)\n",
    "df = dp.filter_level_two_failures(df)\n",
    "wm = wm_scoring.get_perc_correct_predicted_sep_trial(df)[0]\n",
    "#wm = wm.merge(dp.get_gbe_data(columns = ['participant','session_number']), left_on = 'gbe_index', right_index = True, how = 'left')\n",
    "wm = wm.rename(columns={'perc_predicted_sep_trial_no_distractor_1': 'wm_no_1',\n",
    "                       'perc_predicted_sep_trial_no_distractor_2': 'wm_no_2',\n",
    "                       'perc_predicted_sep_trial_encoding_distractor': 'wm_encoding',\n",
    "                       'perc_predicted_sep_trial_delayed_distractor':'wm_delayed'})"
   ]
  },
  {
   "cell_type": "markdown",
   "id": "5b20533d-bcd7-4e7c-ae66-f7adfcbdeb0d",
   "metadata": {},
   "source": [
    "### Risk taking task"
   ]
  },
  {
   "cell_type": "code",
   "execution_count": null,
   "id": "4d9840fe-d833-4610-847d-c7740d79957a",
   "metadata": {},
   "outputs": [],
   "source": [
    "# Getting raw data\n",
    "dp = RTTDataProvider('/Users/hilmarzech/Projects/trr265/trr265/data/')\n",
    "df = dp.get_rtt_data(update = update_all_data)\n",
    "# Adding data from redcap\n",
    "df = df.merge(dp.get_gbe_data(columns = ['participant','session_number','is_initial','is_baseline']), left_on = 'gbe_index', right_index = True, how = 'left')\n",
    "# Filtering out replication and ema data\n",
    "df = df.query(\"is_baseline==False\")\n",
    "rtt = rtt_scoring.get_perc_gamble_predicted_joint(df)[0]\n",
    "#rtt = rtt.merge(dp.get_gbe_data(columns = ['participant','session_number']), left_on = 'gbe_index', right_index = True, how = 'left')\n",
    "rtt = rtt.rename(columns={'perc_gamble_joint_win': 'rtt_win',\n",
    "                       'perc_gamble_joint_loss': 'rtt_loss',\n",
    "                       'perc_gamble_joint_mixed': 'rtt_mixed'})"
   ]
  },
  {
   "cell_type": "markdown",
   "id": "2f6ac746-2053-497f-8aa9-6caaf5e1901c",
   "metadata": {},
   "source": [
    "### Stop signal task"
   ]
  },
  {
   "cell_type": "code",
   "execution_count": null,
   "id": "d2e80151-63d5-42fb-87f3-a3ec4b73dfdf",
   "metadata": {},
   "outputs": [],
   "source": [
    "# Getting raw data\n",
    "dp = SSTDataProvider('/Users/hilmarzech/Projects/trr265/trr265/data/')\n",
    "df = dp.get_sst_data(update = update_all_data)\n",
    "# Adding data from redcap\n",
    "df = df.merge(dp.get_gbe_data(columns = ['participant','session_number','is_initial','is_baseline']), left_on = 'gbe_index', right_index = True, how = 'left')\n",
    "# Filtering out replication and ema data\n",
    "df = df.query(\"is_baseline==False\")\n",
    "sst = sst_scoring.get_ssrt_predicted_joint(df)[0]\n",
    "#sst = sst.merge(dp.get_gbe_data(columns = ['participant','session_number']), left_on = 'gbe_index', right_index = True, how = 'left')\n",
    "sst = sst.rename(columns = {'ssrt_predicted_joint':'ssrt'})"
   ]
  },
  {
   "cell_type": "code",
   "execution_count": null,
   "id": "18bf2205-8f37-4dbe-93d4-e4019483a569",
   "metadata": {},
   "outputs": [],
   "source": [
    "sst.to_csv('../data/processed/sst_predicted_joint_longitudinal.csv')\n",
    "wm.to_csv('../data/processed/wm_predicted_joint_longitudinal.csv')\n",
    "rtt.to_csv('../data/processed/rtt_predicted_joint_longitudinal.csv')\n",
    "ist.to_csv('../data/processed/ist_predicted_joint_longitudinal.csv')"
   ]
  },
  {
   "cell_type": "markdown",
   "id": "9657a894-03c5-4a41-9b4c-5e3be3dccbc2",
   "metadata": {},
   "source": [
    "### Drinking"
   ]
  },
  {
   "cell_type": "markdown",
   "id": "c4656dba-54ea-4dd7-8f33-cf0cccda74fb",
   "metadata": {},
   "source": [
    "### AUD criteria"
   ]
  },
  {
   "cell_type": "code",
   "execution_count": null,
   "id": "d69d063d-736d-47e5-b4a7-aeebe89d6748",
   "metadata": {},
   "outputs": [
    {
     "data": {
      "image/png": "[encoded data removed]",
      "text/plain": [
       "<Figure size 432x288 with 1 Axes>"
      ]
     },
     "metadata": {
      "image/png": {
       "height": 254,
       "width": 382
      }
     },
     "output_type": "display_data"
    }
   ],
   "source": [
    "ba = dp.get_ba_data().query(\"redcap_event_name=='erhebungszeitpunkt_arm_1'\")\n",
    "#ba = ba[ba.mov_id.isin(initial_participants)]\n",
    "aud = ba[~ba.bx_aud_sum.isnull()][['mov_id','bx_aud_sum']]\n",
    "aud.columns = ['participant','aud']\n",
    "aud = aud.groupby('participant').first()\n",
    "aud.aud.hist(bins = 30)\n",
    "sns.despine()"
   ]
  },
  {
   "cell_type": "markdown",
   "id": "f9204365-de01-4b9b-aeda-0d118469c8d1",
   "metadata": {},
   "source": [
    "### Drinking days\n",
    "16 participants did not report to drink any alcohol during the first EMA month."
   ]
  },
  {
   "cell_type": "code",
   "execution_count": null,
   "id": "0910e9b0-a693-4735-9313-73513f670b26",
   "metadata": {},
   "outputs": [],
   "source": [
    "two_day = dp.get_two_day_data(update = update_all_data)\n",
    "#drinking_days = two_day.query(\"sampling_day<30\")#.groupby('participant').g_alc.agg(['mean','median'])\n",
    "#drinking_days['drinking_days'] = ema_drinking.g_alc>0\n",
    "#drinking_days = drinking_days.groupby('participant')[['g_alc','drinking_days']].sum().reset_index()\n",
    "#drinking_days = drinking_days[drinking_days.participant.isin(initial_participants)].set_index('participant')"
   ]
  },
  {
   "cell_type": "markdown",
   "id": "a182e55a-eb72-4078-9373-461456c720d1",
   "metadata": {},
   "source": [
    "### Participant numbers"
   ]
  },
  {
   "cell_type": "code",
   "execution_count": null,
   "id": "2c4fbce9-b448-46cd-9505-fea749a2fd14",
   "metadata": {},
   "outputs": [],
   "source": [
    "tasks = pd.concat([wm, sst, rtt,ist],axis = 1).dropna(how = 'all')\n",
    "tasks = tasks.merge(dp.get_gbe_data(columns = ['participant','redcap_id','session_number']), left_on = 'gbe_index', right_index = True, how = 'left')\n",
    "tasks = tasks.loc[:,~tasks.columns.duplicated()]\n",
    "gbe = dp.get_gbe_data()\n",
    "tasks['date'] = pd.to_datetime(gbe.date)"
   ]
  },
  {
   "cell_type": "code",
   "execution_count": null,
   "id": "2a39169c-7f1f-43aa-8559-f6e7da85112a",
   "metadata": {},
   "outputs": [],
   "source": [
    "#initial = pd.read_csv('../data/interim/initial_participants.csv')\n",
    "#initial_participants = initial['participant']"
   ]
  },
  {
   "cell_type": "markdown",
   "id": "93a14420-09df-46ad-b743-ac922df13cb1",
   "metadata": {},
   "source": [
    "#### Data from global dataset"
   ]
  },
  {
   "cell_type": "code",
   "execution_count": null,
   "id": "64ba4a78-9215-4d19-bb7a-92329259c5d3",
   "metadata": {},
   "outputs": [],
   "source": [
    "# Data from global dataset\n",
    "gba = pd.read_stata('/Users/hilmarzech/Projects/trr265/trr265/data/raw/TRR265_PID78_20220623/BA_S01_t0.dta',convert_categoricals=False).query('t0_dashboard_aud==1')"
   ]
  },
  {
   "cell_type": "code",
   "execution_count": null,
   "id": "bda9e912-14d7-4112-8328-dec7b8a3fadc",
   "metadata": {},
   "outputs": [
    {
     "data": {
      "text/plain": [
       "'In total 643 participants have been included in the study by 23.06.22.'"
      ]
     },
     "execution_count": null,
     "metadata": {},
     "output_type": "execute_result"
    }
   ],
   "source": [
    "'''In total %d participants have been included in the study by 23.06.22.'''%len(gba.participant_id.unique())"
   ]
  },
  {
   "cell_type": "code",
   "execution_count": null,
   "id": "6dd15bc3-8c42-469f-9dc6-7948effcdd50",
   "metadata": {},
   "outputs": [],
   "source": [
    "gba['missing_mov_id'] = gba.t0_bx_movisens.isna()\n",
    "gba['center'] = gba.t0_bx_center.replace({1:'berlin',2:'dresden',3:'mannheim'})"
   ]
  },
  {
   "cell_type": "code",
   "execution_count": null,
   "id": "00d11cc9-c2c1-4b95-b52c-2b90b0408e81",
   "metadata": {},
   "outputs": [
    {
     "data": {
      "text/plain": [
       "center\n",
       "berlin      22\n",
       "dresden     18\n",
       "mannheim     3\n",
       "Name: missing_mov_id, dtype: int64"
      ]
     },
     "execution_count": null,
     "metadata": {},
     "output_type": "execute_result"
    }
   ],
   "source": [
    "gba.groupby('center').missing_mov_id.sum()"
   ]
  },
  {
   "cell_type": "code",
   "execution_count": null,
   "id": "6ba89373-8031-4c6a-8112-f89e97f3ebf5",
   "metadata": {},
   "outputs": [
    {
     "data": {
      "text/plain": [
       "'Some participants were included although they did not receive a movisens ID.  Only counting participants with movisens ID, we have 600 participants'"
      ]
     },
     "execution_count": null,
     "metadata": {},
     "output_type": "execute_result"
    }
   ],
   "source": [
    "'''Some participants were included although they did not receive a movisens ID.  Only counting participants with movisens ID, we have %d participants'''%(gba.missing_mov_id==0).sum()"
   ]
  },
  {
   "cell_type": "code",
   "execution_count": null,
   "id": "74f98e62-f311-4ccb-8586-06b20528c88d",
   "metadata": {},
   "outputs": [
    {
     "data": {
      "text/plain": [
       "'We have longitudinal data from 595 participants.'"
      ]
     },
     "execution_count": null,
     "metadata": {},
     "output_type": "execute_result"
    }
   ],
   "source": [
    "two_day_data = dp.get_two_day_data()\n",
    "'''We have longitudinal data from %d participants.'''%len(two_day_data.participant.unique())"
   ]
  },
  {
   "cell_type": "code",
   "execution_count": null,
   "id": "42db86b5-2142-42f8-a36c-1d742ab2f26c",
   "metadata": {},
   "outputs": [
    {
     "data": {
      "text/plain": [
       "3851"
      ]
     },
     "execution_count": null,
     "metadata": {},
     "output_type": "execute_result"
    }
   ],
   "source": [
    "len(tasks)"
   ]
  },
  {
   "cell_type": "code",
   "execution_count": null,
   "id": "380a2120-362d-4f3f-a003-fdb437db7add",
   "metadata": {},
   "outputs": [
    {
     "data": {
      "text/plain": [
       "'Of these 533 participants have longitudinal task data (in total 3851 sessions).'"
      ]
     },
     "execution_count": null,
     "metadata": {},
     "output_type": "execute_result"
    }
   ],
   "source": [
    "'Of these %d participants have longitudinal task data (in total %d sessions).'%(len(tasks.participant.unique()), len(tasks))"
   ]
  },
  {
   "cell_type": "markdown",
   "id": "9879c37e-f981-47c4-994b-84eec4ab233c",
   "metadata": {},
   "source": [
    "ToDo: Find out what happened to the remaining participants."
   ]
  },
  {
   "cell_type": "code",
   "execution_count": null,
   "id": "b80466ec-a444-47fb-9124-d18255b6508c",
   "metadata": {},
   "outputs": [],
   "source": [
    "import datetime\n",
    "gba['starting_date'] = pd.to_datetime(gba.t0_bx_date)\n",
    "gba['days_since_start'] = (datetime.datetime.now() - gba.starting_date).dt.days"
   ]
  },
  {
   "cell_type": "code",
   "execution_count": null,
   "id": "7784bd73-72af-4f35-8986-e46697a859ca",
   "metadata": {},
   "outputs": [
    {
     "data": {
      "text/plain": [
       "'384 participants (with movisens IDs) have already finished the study.'"
      ]
     },
     "execution_count": null,
     "metadata": {},
     "output_type": "execute_result"
    }
   ],
   "source": [
    "gba_finished = gba.query('days_since_start>365').query('missing_mov_id==0')\n",
    "'''%d participants (with movisens IDs) have already finished the study.'''%len(gba_finished.participant_id.unique())"
   ]
  },
  {
   "cell_type": "code",
   "execution_count": null,
   "id": "85b01c37-34ed-4583-95c0-f08fb3e19acc",
   "metadata": {},
   "outputs": [],
   "source": [
    "tasks_finished = tasks[tasks.redcap_id.isin(gba_finished.participant_id.unique())]"
   ]
  },
  {
   "cell_type": "code",
   "execution_count": null,
   "id": "991ccdf6-2b92-4a9b-b281-50f9be394e5a",
   "metadata": {},
   "outputs": [
    {
     "data": {
      "text/plain": [
       "'Of these participants 340 have longitudinal task data (in total 2938 sessions).'"
      ]
     },
     "execution_count": null,
     "metadata": {},
     "output_type": "execute_result"
    }
   ],
   "source": [
    "'''Of these participants %d have longitudinal task data (in total %d sessions).'''%(len(tasks_finished.participant.unique()), len(tasks_finished))"
   ]
  },
  {
   "cell_type": "code",
   "execution_count": null,
   "id": "41fe32c4-b275-40df-928e-119240a4afe2",
   "metadata": {},
   "outputs": [],
   "source": [
    "initial_participants = gba[gba.participant_id.isin(tasks_finished.redcap_id)].sort_values(by='starting_date').reset_index().iloc[:300].participant_id"
   ]
  },
  {
   "cell_type": "markdown",
   "id": "36f8beb0-2aa1-4b88-82e4-16c9ce6e84f2",
   "metadata": {},
   "source": [
    "The initial sample was completed on 28.06.2022."
   ]
  },
  {
   "cell_type": "code",
   "execution_count": null,
   "id": "9c8bb2b2-05f8-4e15-ba0e-e467bb45d790",
   "metadata": {},
   "outputs": [
    {
     "data": {
      "text/plain": [
       "'In the initial sample, there are 300 participants (in total 2629 sessions).'"
      ]
     },
     "execution_count": null,
     "metadata": {},
     "output_type": "execute_result"
    }
   ],
   "source": [
    "initial_task_data = tasks[tasks.redcap_id.isin(initial_participants)]\n",
    "'''In the initial sample, there are %d participants (in total %d sessions).'''%(len(initial_task_data.participant.unique()), len(initial_task_data))"
   ]
  },
  {
   "cell_type": "code",
   "execution_count": null,
   "id": "00757b00-069e-4329-bcf4-1cc52782f43b",
   "metadata": {},
   "outputs": [
    {
     "data": {
      "text/plain": [
       "Timestamp('2021-06-28 00:00:00')"
      ]
     },
     "execution_count": null,
     "metadata": {},
     "output_type": "execute_result"
    }
   ],
   "source": [
    "gba[(gba.participant_id.isin(tasks_finished.redcap_id)) & (gba.participant_id.isin(initial_participants))].starting_date.max()"
   ]
  },
  {
   "cell_type": "code",
   "execution_count": null,
   "id": "63017310-7a24-4603-bcd1-a5c8b110cb0a",
   "metadata": {},
   "outputs": [
    {
     "data": {
      "text/plain": [
       "Timestamp('2021-06-28 00:00:00')"
      ]
     },
     "execution_count": null,
     "metadata": {},
     "output_type": "execute_result"
    }
   ],
   "source": [
    "gba[(gba.participant_id.isin(tasks_finished.redcap_id)) &(gba.participant_id.isin(initial_participants)==False)].starting_date.min()"
   ]
  }
 ],
 "metadata": {
  "kernelspec": {
   "display_name": "Python 3 (ipykernel)",
   "language": "python",
   "name": "python3"
  }
 },
 "nbformat": 4,
 "nbformat_minor": 5
}
