{
 "cells": [
  {
   "cell_type": "code",
   "execution_count": null,
   "id": "c976499f-e466-4ddf-a983-f1bca64e3b98",
   "metadata": {},
   "outputs": [],
   "source": [
    "# default_exp gbe.ema_drinking"
   ]
  },
  {
   "cell_type": "markdown",
   "id": "5dcc5595-56ec-411f-9fec-cff0e01d3bfc",
   "metadata": {},
   "source": [
    "# EMA drinking"
   ]
  },
  {
   "cell_type": "code",
   "execution_count": null,
   "id": "a57df932-75bd-4506-a338-e57b7940ec91",
   "metadata": {},
   "outputs": [],
   "source": [
    "update_all_data = False"
   ]
  },
  {
   "cell_type": "code",
   "execution_count": null,
   "id": "10ab1e1e-ded1-4c3e-bb03-24ccbd83c6ca",
   "metadata": {},
   "outputs": [],
   "source": [
    "%load_ext autoreload\n",
    "%autoreload 2\n",
    "%matplotlib inline\n",
    "%config InlineBackend.figure_format = 'retina'\n",
    "%reload_ext rpy2.ipython\n",
    "import seaborn as sns\n",
    "from matplotlib import pyplot as plt\n",
    "custom_params = {\"axes.spines.right\": False, \"axes.spines.top\": False}\n",
    "sns.set_theme(style=\"white\", font_scale = 1.3, rc=custom_params)\n",
    "from IPython.core.display import HTML\n"
   ]
  },
  {
   "cell_type": "code",
   "execution_count": null,
   "id": "439b0844-2e9e-4671-93e7-f2550eb8c53d",
   "metadata": {},
   "outputs": [
    {
     "name": "stdout",
     "output_type": "stream",
     "text": [
      "The autoreload extension is already loaded. To reload it, use:\n",
      "  %reload_ext autoreload\n"
     ]
    }
   ],
   "source": [
    "#export\n",
    "%load_ext autoreload\n",
    "%autoreload 2\n",
    "from trr265.gbe.ist.data_provider import ISTDataProvider\n",
    "from trr265.gbe.wm.data_provider import WMDataProvider\n",
    "from trr265.gbe.sst.data_provider import SSTDataProvider\n",
    "from trr265.gbe.rtt.data_provider import RTTDataProvider\n",
    "\n",
    "import trr265.gbe.ist.scoring as ist_scoring \n",
    "import trr265.gbe.wm.scoring as wm_scoring \n",
    "import trr265.gbe.sst.scoring as sst_scoring \n",
    "import trr265.gbe.rtt.scoring as rtt_scoring \n",
    "\n",
    "import pandas as pd"
   ]
  },
  {
   "cell_type": "markdown",
   "id": "c9ad245e-a268-4bbe-8df8-288198e7cf53",
   "metadata": {},
   "source": [
    "## Loading the data\n",
    "In this notebook, all tests and examples are run on the initial baseline dataset."
   ]
  },
  {
   "cell_type": "markdown",
   "id": "2d58b975-170f-448f-b784-f49a9adc2294",
   "metadata": {},
   "source": [
    "### Global dataset"
   ]
  },
  {
   "cell_type": "code",
   "execution_count": null,
   "id": "50e2e28e-1e9a-4949-a51d-9fbf40c4900d",
   "metadata": {},
   "outputs": [],
   "source": [
    "import numpy as np\n",
    "def get_ba_data():\n",
    "    '''This function reads in baseline data and creates movisens IDs.'''\n",
    "    df = pd.read_stata('/Users/hilmarzech/Projects/trr265/trr265/data/raw/TRR265_PID78_20220623/BA_S01_t0.dta',convert_categoricals=False).query('t0_dashboard_aud==1')\n",
    "    df['center'] = df.groupby('participant_id').t0_bx_center.transform(lambda x: x.ffill().bfill())\n",
    "    df['center'] = df.center.replace({1:'b',2:'d',3:'m'})\n",
    "    # Creating new movisense IDs (adding center prefix to movisense IDs)\n",
    "    for old_id in ['t0_bx_movisens','t0_bx_movisens_old','t0_bx_movisens_old_2']:\n",
    "        new_id = old_id.replace('t0_bx_','').replace('movisens','mov_id')\n",
    "        df[new_id] = df.groupby('participant_id')[old_id].transform(lambda x: x.ffill().bfill())\n",
    "        df[new_id] = df.center + df[new_id].astype('str').str.strip('0').str.strip('.').apply(lambda x: x.zfill(3))\n",
    "        df[new_id].fillna('nan',inplace = True)\n",
    "        df.loc[df[new_id].str.contains('nan'),new_id] = np.nan\n",
    "    return df\n",
    "gba = get_ba_data()"
   ]
  },
  {
   "cell_type": "code",
   "execution_count": null,
   "id": "67ad5e7a-d6b4-4994-a746-69747dbc9430",
   "metadata": {},
   "outputs": [],
   "source": [
    "#gba = pd.read_stata('/Users/hilmarzech/Projects/trr265/trr265/data/raw/TRR265_PID78_20220623/BA_S01_t0.dta',convert_categoricals=False).query('t0_dashboard_aud==1')"
   ]
  },
  {
   "cell_type": "markdown",
   "id": "d4874c8d-95e1-424a-ae80-0950d376bf3d",
   "metadata": {},
   "source": [
    "### Participants with movisens id"
   ]
  },
  {
   "cell_type": "code",
   "execution_count": null,
   "id": "e5c4d65a-d2c3-4d79-b7a8-2961bc4c3434",
   "metadata": {},
   "outputs": [
    {
     "data": {
      "text/html": [
       "Of the 643 AUD participants in the global dataset, 600 have a specified movisens ID."
      ],
      "text/plain": [
       "<IPython.core.display.HTML object>"
      ]
     },
     "metadata": {},
     "output_type": "display_data"
    }
   ],
   "source": [
    "display(HTML('Of the %d AUD participants in the global dataset, %d have a specified movisens ID.'%(len(gba), (gba.t0_bx_movisens.isna()==False).sum())))"
   ]
  },
  {
   "cell_type": "code",
   "execution_count": null,
   "id": "418fa6e3-d123-4486-8232-d108d1a84fb9",
   "metadata": {},
   "outputs": [],
   "source": [
    "dp = ISTDataProvider('/Users/hilmarzech/Projects/trr265/trr265/data/')\n",
    "\n",
    "# Replacing old with new movisens IDs\n",
    "gba['mov_id'] = gba.mov_id.replace(dp.get_duplicate_mov_ids())"
   ]
  },
  {
   "cell_type": "code",
   "execution_count": null,
   "id": "50c07acc-4d5b-417a-a19d-93527d58ca31",
   "metadata": {},
   "outputs": [
    {
     "name": "stdout",
     "output_type": "stream",
     "text": [
      "Preparing mov_data\n",
      "Participants: b186, b240, b295, b313, b317, b331, b353, b357, d161, d188, d207, m158, m257, m283, m304, m338 have no associated redcap IDs and are excluded from the following analyses.\n"
     ]
    }
   ],
   "source": [
    "# Getting mov_data for same time frame as gba data (+5 days because some lag between redcap and movsens start)\n",
    "mov_data = dp.get_mov_data(update = True).query('starting_date<20220628')"
   ]
  },
  {
   "cell_type": "markdown",
   "id": "3e0ef140-bc8b-4e0b-a933-e306a301dabc",
   "metadata": {},
   "source": [
    "Participants in global dataset but not in movisens data."
   ]
  },
  {
   "cell_type": "markdown",
   "id": "9c55539a-609d-42c3-82d4-882c2a388a0e",
   "metadata": {},
   "source": [
    "### Participants with movisens data"
   ]
  },
  {
   "cell_type": "code",
   "execution_count": null,
   "id": "4fd4c3c1-9264-496e-b522-cf4a8b2f720c",
   "metadata": {},
   "outputs": [
    {
     "data": {
      "text/html": [
       "Of the participants with a movisense ID, 10 do not have any movisens data."
      ],
      "text/plain": [
       "<IPython.core.display.HTML object>"
      ]
     },
     "metadata": {},
     "output_type": "display_data"
    }
   ],
   "source": [
    "display(HTML('''Of the redcap participants with a movisense ID, %d do not have any movisens data.'''%len(set(gba.mov_id.dropna()).difference(set(mov_data.participant)))))"
   ]
  },
  {
   "cell_type": "markdown",
   "id": "88f6e2ba-18e2-4eb5-96bf-1de9418a67e7",
   "metadata": {},
   "source": [
    "### Participants with drinking data"
   ]
  },
  {
   "cell_type": "code",
   "execution_count": null,
   "id": "aee4c799-fc49-4dee-ad2a-d77ae4194e39",
   "metadata": {},
   "outputs": [
    {
     "name": "stdout",
     "output_type": "stream",
     "text": [
      "Preparing two_day_data\n"
     ]
    }
   ],
   "source": [
    "# Getting mov_data for same time frame as gba data (+5 days because some lag between redcap and movsens start)\n",
    "two_day = dp.get_two_day_data(update = True).query('starting_date<20220628')"
   ]
  },
  {
   "cell_type": "code",
   "execution_count": null,
   "id": "c9b91a61-0f36-4422-9173-d66c46a14276",
   "metadata": {},
   "outputs": [
    {
     "data": {
      "text/html": [
       "Of the redcap participants with movisense ID, 35 do not have any drinking data."
      ],
      "text/plain": [
       "<IPython.core.display.HTML object>"
      ]
     },
     "metadata": {},
     "output_type": "display_data"
    }
   ],
   "source": [
    "display(HTML('''Of the redcap participants with movisense ID, %d do not have any drinking data.'''%len(set(gba.mov_id.dropna()).difference(set(two_day.participant)))))"
   ]
  },
  {
   "cell_type": "markdown",
   "id": "f8e90239-546c-47cb-a3e8-32c83eb19e53",
   "metadata": {},
   "source": [
    "### Participants raw gbe data"
   ]
  },
  {
   "cell_type": "code",
   "execution_count": null,
   "id": "d897336e-867d-4fdb-bd2b-b4099d70b6a3",
   "metadata": {},
   "outputs": [],
   "source": [
    "gbe = dp.get_gbe_data()[['participant','session_number','FruitTapGame','WorkingMemoryGame','CardGame','RewardAndHappinessGame']]"
   ]
  },
  {
   "cell_type": "markdown",
   "id": "4e5f3923-1124-414f-9ba1-4e5cabf42e5b",
   "metadata": {},
   "source": [
    "#### Working memory"
   ]
  },
  {
   "cell_type": "code",
   "execution_count": null,
   "id": "72296094-8884-4824-8932-4160591bad1a",
   "metadata": {},
   "outputs": [
    {
     "data": {
      "text/html": [
       "Of the redcap participants with a movisense ID, 26 do not have any working memory data."
      ],
      "text/plain": [
       "<IPython.core.display.HTML object>"
      ]
     },
     "metadata": {},
     "output_type": "display_data"
    }
   ],
   "source": [
    "from trr265.gbe.wm.data_provider import WMDataProvider\n",
    "# Getting raw data\n",
    "dp = WMDataProvider('/Users/hilmarzech/Projects/trr265/trr265/data/')\n",
    "df = dp.get_wm_data()\n",
    "display(HTML('''Of the redcap participants with a movisense ID, %d do not have any working memory data.'''%len(set(gba.mov_id.dropna()).difference(set(df.gbe_index.apply(lambda x: x.split('_')[0]).unique())))))"
   ]
  },
  {
   "cell_type": "markdown",
   "id": "5b3bd8f6-0754-4ed8-b06e-06eb4a14ce57",
   "metadata": {},
   "source": [
    "#### Information sampling "
   ]
  },
  {
   "cell_type": "code",
   "execution_count": null,
   "id": "34fceb41-61fc-473d-ba65-cc35bed85000",
   "metadata": {},
   "outputs": [
    {
     "data": {
      "text/html": [
       "Of the redcap participants with a movisense ID, 30 do not have any information sampling data."
      ],
      "text/plain": [
       "<IPython.core.display.HTML object>"
      ]
     },
     "metadata": {},
     "output_type": "display_data"
    }
   ],
   "source": [
    "from trr265.gbe.ist.data_provider import ISTDataProvider\n",
    "# Getting raw data\n",
    "dp = ISTDataProvider('/Users/hilmarzech/Projects/trr265/trr265/data/')\n",
    "df = dp.get_ist_data()\n",
    "display(HTML('''Of the redcap participants with a movisense ID, %d do not have any information sampling data.'''%len(set(gba.mov_id.dropna()).difference(set(df.gbe_index.apply(lambda x: x.split('_')[0]).unique())))))"
   ]
  },
  {
   "cell_type": "markdown",
   "id": "46548b11-984e-4ea3-8023-f094ed4b0442",
   "metadata": {},
   "source": [
    "#### SST"
   ]
  },
  {
   "cell_type": "code",
   "execution_count": null,
   "id": "22146d77-dbc7-49ea-875f-629ac5fd459c",
   "metadata": {},
   "outputs": [
    {
     "data": {
      "text/html": [
       "Of the redcap participants with a movisense ID, 26 do not have any SST data."
      ],
      "text/plain": [
       "<IPython.core.display.HTML object>"
      ]
     },
     "metadata": {},
     "output_type": "display_data"
    }
   ],
   "source": [
    "from trr265.gbe.sst.data_provider import SSTDataProvider\n",
    "# Getting raw data\n",
    "dp = SSTDataProvider('/Users/hilmarzech/Projects/trr265/trr265/data/')\n",
    "df = dp.get_sst_data()\n",
    "display(HTML('''Of the redcap participants with a movisense ID, %d do not have any SST data.'''%len(set(gba.mov_id.dropna()).difference(set(df.gbe_index.apply(lambda x: x.split('_')[0]).unique())))))"
   ]
  },
  {
   "cell_type": "markdown",
   "id": "3df04aac-f171-4909-baf2-092b9a826b24",
   "metadata": {},
   "source": [
    "#### RTT"
   ]
  },
  {
   "cell_type": "code",
   "execution_count": null,
   "id": "e94ebcd9-1dd9-49be-8fbb-72e8316e4e44",
   "metadata": {},
   "outputs": [
    {
     "data": {
      "text/html": [
       "Of the redcap participants with a movisense ID, 26 do not have any RTT data."
      ],
      "text/plain": [
       "<IPython.core.display.HTML object>"
      ]
     },
     "metadata": {},
     "output_type": "display_data"
    }
   ],
   "source": [
    "from trr265.gbe.rtt.data_provider import RTTDataProvider\n",
    "# Getting raw data\n",
    "dp = RTTDataProvider('/Users/hilmarzech/Projects/trr265/trr265/data/')\n",
    "df = dp.get_rtt_data()\n",
    "display(HTML('''Of the redcap participants with a movisense ID, %d do not have any RTT data.'''%len(set(gba.mov_id.dropna()).difference(set(df.gbe_index.apply(lambda x: x.split('_')[0]).unique())))))"
   ]
  },
  {
   "cell_type": "markdown",
   "id": "d27fd40f-6001-44f6-8145-38637a62acbb",
   "metadata": {},
   "source": [
    "### Participants with processed task data"
   ]
  },
  {
   "cell_type": "markdown",
   "id": "45ce8910-531d-4112-b19c-0992565bc123",
   "metadata": {},
   "source": [
    "### Factor scores\n",
    "(based on baseline data)"
   ]
  },
  {
   "cell_type": "code",
   "execution_count": null,
   "id": "0ac34ed4-c722-49de-87de-aa2d9964ec04",
   "metadata": {},
   "outputs": [],
   "source": [
    "factor_scores = pd.read_pickle('../data/interim/factor_scores.pkl')"
   ]
  },
  {
   "cell_type": "code",
   "execution_count": null,
   "id": "7a1a5d7e-4a65-4e0d-b8e0-0baf73a0c187",
   "metadata": {},
   "outputs": [
    {
     "data": {
      "text/plain": [
       "547"
      ]
     },
     "execution_count": null,
     "metadata": {},
     "output_type": "execute_result"
    }
   ],
   "source": [
    "len(factor_scores.participant.unique())"
   ]
  }
 ],
 "metadata": {
  "kernelspec": {
   "display_name": "Python 3 (ipykernel)",
   "language": "python",
   "name": "python3"
  }
 },
 "nbformat": 4,
 "nbformat_minor": 5
}
