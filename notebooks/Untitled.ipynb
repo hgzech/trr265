{
 "cells": [
  {
   "cell_type": "code",
   "execution_count": null,
   "id": "ad3bb374-f80e-40eb-8852-6e1b068e6596",
   "metadata": {},
   "outputs": [],
   "source": [
    "def make_count_dict(df):\n",
    "    filters = {\"included\": \"(screen_incl==1 and screen_excl_cons!=screen_excl_cons)\",\n",
    "    \"not_included\": \"(screen_incl==0 and screen_excl_cons!=screen_excl_cons)\",\n",
    "    \"rucksprache\": \"(screen_incl==2 or screen_excl_cons==screen_excl_cons)\",\n",
    "    \"missing\": \"(screen_incl!=screen_incl)\",\n",
    "    \"ru_excl\":  \"(screen_excl_cons==1)\",\n",
    "    \"ru_incl\": \"(screen_excl_cons==0)\",\n",
    "    \"ru_missing\": \"(screen_included==2 and screen_excl_cons!=screen_excl_cons)\",\n",
    "    \"incl_aud\": \"(%s and screen_group=='AUD')\"%included,\n",
    "    \"incl_con\": \"(%s and screen_group=='Control')\"%included,\n",
    "    \"ru_in_aud\": \"(%s and screen_group=='AUD')\"%ru_incl,\n",
    "    \"ru_in_con\": \"(%s and screen_group=='Control')\"%ru_incl,\n",
    "    \"aud_tested\": \"(screen_group=='AUD' and tested==True)\"}"
   ]
  }
 ],
 "metadata": {
  "kernelspec": {
   "display_name": "Python 3 (ipykernel)",
   "language": "python",
   "name": "python3"
  }
 },
 "nbformat": 4,
 "nbformat_minor": 5
}
