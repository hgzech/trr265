{
 "cells": [
  {
   "cell_type": "code",
   "execution_count": null,
   "id": "ba49762d-f0dd-4c9c-9a47-add337f74338",
   "metadata": {},
   "outputs": [],
   "source": [
    "# default_exp monitoring"
   ]
  },
  {
   "cell_type": "markdown",
   "id": "d6508e09-e6f8-4b26-89fb-42145ab3abcf",
   "metadata": {},
   "source": [
    "# Monitoring\n",
    "In this notebook, we monitor our pipeline efficiency."
   ]
  },
  {
   "cell_type": "code",
   "execution_count": null,
   "id": "4b510eb6-6903-47d0-89a4-4eae296658f7",
   "metadata": {},
   "outputs": [],
   "source": [
    "%load_ext autoreload\n",
    "%autoreload 2\n",
    "from IPython.display import Video"
   ]
  },
  {
   "cell_type": "code",
   "execution_count": null,
   "id": "a846d764-1a80-49ac-86b4-a3ee851e04f4",
   "metadata": {},
   "outputs": [
    {
     "name": "stdout",
     "output_type": "stream",
     "text": [
      "The autoreload extension is already loaded. To reload it, use:\n",
      "  %reload_ext autoreload\n"
     ]
    }
   ],
   "source": [
    "#export\n",
    "%load_ext autoreload\n",
    "%autoreload 2\n",
    "from trr265.data_provider import DataProvider"
   ]
  },
  {
   "cell_type": "code",
   "execution_count": null,
   "id": "dec97ccc-af33-442e-be37-aee8b4c4ff32",
   "metadata": {},
   "outputs": [],
   "source": [
    "dp = DataProvider('/Users/hilmarzech/Projects/trr265/trr265/data/')"
   ]
  },
  {
   "cell_type": "code",
   "execution_count": null,
   "id": "c951cc94-0463-4cde-9a8d-f02beb18ae4c",
   "metadata": {},
   "outputs": [
    {
     "name": "stdout",
     "output_type": "stream",
     "text": [
      "Preparing phone_data\n"
     ]
    }
   ],
   "source": [
    "phone = dp.get_phone_data(update = True).query(\"(screened_for_b07==False)\")"
   ]
  },
  {
   "cell_type": "code",
   "execution_count": null,
   "id": "211284f8-dd7a-430d-a989-d3677f71801b",
   "metadata": {},
   "outputs": [],
   "source": [
    "ba = dp.get_ba_data().query(\"redcap_event_name=='erhebungszeitpunkt_arm_1'\")"
   ]
  },
  {
   "cell_type": "code",
   "execution_count": null,
   "id": "26995a4d",
   "metadata": {},
   "outputs": [
    {
     "name": "stdout",
     "output_type": "stream",
     "text": [
      "Preparing mov_data\n",
      "Participants: b186, d092, d140, d146, d147, d153, m158, m238, m257 have no associated redcap IDs and are excluded from the following analyses.\n"
     ]
    }
   ],
   "source": [
    "mov_data = dp.get_mov_data(update = True)"
   ]
  },
  {
   "cell_type": "code",
   "execution_count": null,
   "id": "50218246",
   "metadata": {},
   "outputs": [
    {
     "data": {
      "text/plain": [
       "473      211\n",
       "483      213\n",
       "588      227\n",
       "598      233\n",
       "635      246\n",
       "        ... \n",
       "4249    1794\n",
       "4329    1804\n",
       "4371    1805\n",
       "4392    1809\n",
       "4525    1903\n",
       "Name: participant_id, Length: 114, dtype: object"
      ]
     },
     "execution_count": null,
     "metadata": {},
     "output_type": "execute_result"
    }
   ],
   "source": [
    "ba.query('(bx_smartphone==bx_smartphone) and (center==\"d\")').participant_id"
   ]
  },
  {
   "cell_type": "code",
   "execution_count": null,
   "id": "b32b6856",
   "metadata": {},
   "outputs": [
    {
     "data": {
      "text/plain": [
       "106"
      ]
     },
     "execution_count": null,
     "metadata": {},
     "output_type": "execute_result"
    }
   ],
   "source": [
    "len(mov_data[mov_data['participant'].str.startswith('d')].participant.unique())"
   ]
  },
  {
   "cell_type": "code",
   "execution_count": null,
   "id": "9c9ab46d-c900-4e0b-9af0-1cdc11b3f209",
   "metadata": {},
   "outputs": [],
   "source": [
    "phone['aud_tested'] = phone.participant_id.isin(ba.participant_id.unique())"
   ]
  },
  {
   "cell_type": "code",
   "execution_count": null,
   "id": "65283300-8846-440b-8348-7c4158d032de",
   "metadata": {},
   "outputs": [],
   "source": [
    "def count_participants(df, filt):\n",
    "    return len(df.query(filt).participant_id.unique())\n",
    "\n",
    "def make_count_dict(df):\n",
    "    included = \"(screen_incl==1 and screen_excl_cons!=screen_excl_cons)\"\n",
    "    ru_incl = \"(screen_excl_cons==0)\"\n",
    "    filters = {\"included\": included,\n",
    "    \"not_included\": \"(screen_incl==0 and screen_excl_cons!=screen_excl_cons)\",\n",
    "    \"rucksprache\": \"(screen_incl==2 or screen_excl_cons==screen_excl_cons)\",\n",
    "    \"missing\": \"(screen_incl!=screen_incl)\",\n",
    "    \"ru_excl\":  \"(screen_excl_cons==1)\",\n",
    "    \"ru_incl\": ru_incl,\n",
    "    \"ru_missing\": \"(screen_included==2 and screen_excl_cons!=screen_excl_cons)\",\n",
    "    \"incl_aud\": \"(%s and screen_group=='AUD')\"%included,\n",
    "    \"incl_con\": \"(%s and screen_group=='Control')\"%included,\n",
    "    \"ru_in_aud\": \"(%s and screen_group=='AUD')\"%ru_incl,\n",
    "    \"ru_in_con\": \"(%s and screen_group=='Control')\"%ru_incl,\n",
    "    \"aud_tested\": \"(screen_group=='AUD' and tested==True)\"}\n",
    "    \n",
    "    count_dict = {}\n",
    "    for key, value in filters.items():\n",
    "        count_dict[key] = count_participants(df, value)\n",
    "    return count_dict\n",
    "        \n",
    "count_dict = make_count_dict(data)"
   ]
  },
  {
   "cell_type": "code",
   "execution_count": null,
   "id": "8407d108-55db-4700-a34b-91227b9a3797",
   "metadata": {},
   "outputs": [],
   "source": [
    "def get_data():\n",
    "    phone_data = dp.get_phone_data()\n",
    "    redcap_data = dp.get_ba_data()#load_redcap_data()\n",
    "    redcap_data['event'] = 'ba'\n",
    "    print('a')\n",
    "    # One MRT questions (Schleifarbeiten) is asked twice with the same label. We relabel it.\n",
    "    phone_data.rename(columns={'bx_mrt_03':'bx_mrt_03_screening'}, inplace=True)\n",
    "    # We also relable piped variables\n",
    "    piped_dict = {c:c+\"_piped\" for c in list(redcap_data.columns) if c.startswith('screen') or c in [\"study_id\",\"center\"]}\n",
    "    redcap_data.rename(columns=piped_dict , inplace=True)\n",
    "    overlapping = set(phone_data.columns).intersection(set(redcap_data.columns))-{'participant_id'}\n",
    "    # Checking for overlapping variables\n",
    "    print('b')\n",
    "    assert not overlapping, \"Overlapping variables in merge: %s. Adjust in piped_dict?\"%', '.join(list(overlapping))\n",
    "    phone_data['participant_id'] = phone_data.participant_id.astype(str)\n",
    "    redcap_data['participant_id'] = redcap_data.participant_id.astype(str)\n",
    "    print('o')\n",
    "    df = pd.merge(phone_data, redcap_data, how=\"outer\", on=[\"participant_id\"], indicator = True, validate='one_to_many')\n",
    "    print('c')\n",
    "    df['phone_screened'] = df._merge != \"right_only\"\n",
    "    print('d')\n",
    "    df['tested'] = df._merge != \"left_only\"\n",
    "    print('e')\n",
    "    df['event'].fillna(\"phone\", inplace = True) # Adding phone event\n",
    "    print('f')\n",
    "    df.drop(columns='_merge', inplace = True)\n",
    "    print(1)\n",
    "    \n",
    "    \n",
    "    # GENERATING VARIABLES\n",
    "    \n",
    "    df['has_phone'] = (df.mov_id.isin([\"dnan\",\"mnan\",\"bnan\"]) | df.mov_id.isna())==False\n",
    "    \n",
    "    # Assigned screening groups\n",
    "    df['screen_group_as'] = np.nan\n",
    "    df.loc[df.screen_aud_group3==1, 'screen_group_as'] = \"No group\" # no group\n",
    "    df.loc[df.screen_aud_group1==1, 'screen_group_as'] = \"Control\" # control\n",
    "    df.loc[df.screen_aud_group2==1, 'screen_group_as'] = \"AUD\" # AUD\n",
    "    # Calculated groups\n",
    "    df['screen_group_calc'] = np.nan\n",
    "    df.loc[df.screen_aud_nogroup==1, 'screen_group_calc'] = \"No group\" # no group\n",
    "    df.loc[df.screen_aud_control==1, 'screen_group_calc'] = \"Control\" # control\n",
    "    df.loc[df.screen_aud_aud==1, 'screen_group_calc'] = \"AUD\" # AUD\n",
    "    # Filling in missing assigned\n",
    "    df['screen_group'] = df.screen_group_as.fillna(df.screen_group_calc)\n",
    "    print(2)\n",
    "    # Assigned BA groups\n",
    "    df['bx_group_as'] = np.nan\n",
    "    df.loc[df.bx_aud_group3==1, 'bx_group_as'] = \"No group\" # no group\n",
    "    df.loc[df.bx_aud_group1==1, 'bx_group_as'] = \"Control\" # control\n",
    "    df.loc[df.bx_aud_group2==1, 'bx_group_as'] = \"AUD\" # AUD\n",
    "    # Calculated groups\n",
    "    df['screen_group_calc'] = np.nan\n",
    "    df.loc[df.bx_aud_nogroup==1, 'bx_group_calc'] = \"No group\" # no group\n",
    "    df.loc[df.bx_aud_control==1, 'bx_group_calc'] = \"Control\" # control\n",
    "    df.loc[df.bx_aud_aud==1, 'bx_group_calc'] = \"AUD\" # AUD\n",
    "    # Filling in missing assigned\n",
    "    df['bx_group'] = df.bx_group_as.fillna(df.bx_group_calc)\n",
    "    \n",
    "    # Generating screen_included variable\n",
    "    df['screen_included'] = np.nan\n",
    "    # Initially set to consult included\n",
    "    df.loc[df.screen_excl_cons == 0, 'screen_included'] = True\n",
    "    # Fill missings with SHKs decision\n",
    "    df['screen_included'] = df['screen_included'].fillna(df.screen_incl)\n",
    "    # Participants that show up in B0 are also tagged as included\n",
    "    df.loc[df.tested,'screen_included'] = True\n",
    "    print(3)\n",
    "\n",
    "    \n",
    "    # Filters\n",
    "    df['is_s01'] = (df.screened_for_s01==True)# | (df.bx_is_s01==True)\n",
    "    \n",
    "    # CHECKS\n",
    "    print(\"Participants are in redcap, but not in phone screening: %s\"%', '.join(map(str,list(df[(df.phone_screened == False) & (df.tested==True)].participant_id.unique()))))\n",
    "    # Participants with no BA\n",
    "    has_ba = df[(df.tested)].groupby('participant_id').event.agg(lambda x: (x=='ba').mean()>0)\n",
    "    no_ba = has_ba[has_ba==False].index\n",
    "    print(\"\\nParticipants are in later sessions but not in BA: %s\"%', '.join(map(str,no_ba)))\n",
    "    return df\n",
    "import pandas as pd\n",
    "import numpy as np\n",
    "data = get_data()"
   ]
  },
  {
   "cell_type": "code",
   "execution_count": null,
   "id": "ed33d01b-d4a9-42af-9a4e-1e88359ce77b",
   "metadata": {},
   "outputs": [],
   "source": [
    "phone.query(\"screen_date>'2021-06-29'\").query(\"(center=='d')\")"
   ]
  },
  {
   "cell_type": "code",
   "execution_count": null,
   "id": "a29e7f47-0ad3-4e32-af6c-72eb763cde13",
   "metadata": {},
   "outputs": [],
   "source": [
    "phone.groupby('center').participant_id.count()"
   ]
  },
  {
   "cell_type": "markdown",
   "id": "0969dc5a-ca04-4098-b79a-c21c0eb20a4b",
   "metadata": {},
   "source": [
    "## Getting the data"
   ]
  },
  {
   "cell_type": "code",
   "execution_count": null,
   "id": "7cf46d67-81fe-4a09-9faa-e12cc13f677f",
   "metadata": {},
   "outputs": [],
   "source": [
    "def get_sankey_parameter(df):\n",
    "    count_dict = make_count_dict(df)\n",
    "    print('''\n",
    "    Teilnehmer [%(included)d] Included \n",
    "    Teilnehmer [%(not_included)d] Not Included \n",
    "    Teilnehmer [%(rucksprache)d] Rücksprache \n",
    "    Teilnehmer [%(missing)d] Missing \n",
    "    Rücksprache [%(ru_excl)d] Rü Excluded\n",
    "    Rücksprache  [%(ru_incl)d] Rü Included\n",
    "    Rücksprache [%(ru_missing)d] Rü Missing\n",
    "    Included [%(incl_aud)d] Direkt AUD\n",
    "    Included [%(incl_con)d] Control\n",
    "    Rü Included [%(ru_in_con)d] Control\n",
    "    Rü Included [%(ru_in_aud)d] AUD Gesamt\n",
    "    Direkt AUD [%(aud_tested)d] AUD Gesamt\n",
    "    '''%count_dict)"
   ]
  },
  {
   "cell_type": "markdown",
   "id": "405c0b5e-ba79-4277-ae29-50fc7696dd1f",
   "metadata": {},
   "source": [
    "## Dresden"
   ]
  },
  {
   "cell_type": "markdown",
   "id": "4a756aeb-3764-4f10-8887-e03a94dc2210",
   "metadata": {},
   "source": [
    "### Dresden before July"
   ]
  },
  {
   "cell_type": "code",
   "execution_count": null,
   "id": "c710c534-b2c2-4023-b9c6-3e7e33583a67",
   "metadata": {},
   "outputs": [
    {
     "name": "stdout",
     "output_type": "stream",
     "text": [
      "\n",
      "    Teilnehmer [443] Included \n",
      "    Teilnehmer [153] Not Included \n",
      "    Teilnehmer [283] Rücksprache \n",
      "    Teilnehmer [70] Missing \n",
      "    Rücksprache [55] Rü Excluded\n",
      "    Rücksprache  [157] Rü Included\n",
      "    Rücksprache [56] Rü Missing\n",
      "    Included [127] Direkt AUD\n",
      "    Included [313] Control\n",
      "    Rü Included [43] Control\n",
      "    Rü Included [109] AUD Gesamt\n",
      "    Direkt AUD [150] AUD Gesamt\n",
      "    \n"
     ]
    }
   ],
   "source": [
    "get_sankey_parameter(data.query(\"(center=='d') and (screen_date<'2021-07-01')\"))"
   ]
  },
  {
   "cell_type": "code",
   "execution_count": null,
   "id": "2089ed0d-be69-435f-a229-a12b2a8470eb",
   "metadata": {},
   "outputs": [
    {
     "data": {
      "text/html": [
       "<iframe src=\"https://sankeymatic.com/build/\" width=\"1200\" height=\"1000\"></iframe>\n"
      ],
      "text/plain": [
       "<IPython.core.display.HTML object>"
      ]
     },
     "metadata": {},
     "output_type": "display_data"
    }
   ],
   "source": [
    "%%html\n",
    "<iframe src=\"https://sankeymatic.com/build/\" width=\"1200\" height=\"1000\"></iframe>"
   ]
  },
  {
   "cell_type": "markdown",
   "id": "b09d38f8-b4ea-496b-930d-6f6eba0f72df",
   "metadata": {},
   "source": [
    "<img width=\"700\" height=\"118\" src='images/sankey_dresden_before_july.png' />"
   ]
  },
  {
   "cell_type": "markdown",
   "id": "b74267f9-6235-46b7-a4a0-74a70b3b00dc",
   "metadata": {},
   "source": [
    "Screened: 77 of 949 (8%) included.\n",
    "\n",
    "BA: 77 of 260 (30%) included."
   ]
  },
  {
   "cell_type": "markdown",
   "id": "361dc702-41e1-4775-88f9-5dabffc762a2",
   "metadata": {},
   "source": [
    "### After July"
   ]
  },
  {
   "cell_type": "code",
   "execution_count": null,
   "id": "5e02ecbe-6a04-4334-8fa1-9cd5e7473db0",
   "metadata": {},
   "outputs": [
    {
     "name": "stdout",
     "output_type": "stream",
     "text": [
      "\n",
      "    Teilnehmer [66] Included \n",
      "    Teilnehmer [62] Not Included \n",
      "    Teilnehmer [58] Rücksprache \n",
      "    Teilnehmer [50] Missing \n",
      "    Rücksprache [10] Rü Excluded\n",
      "    Rücksprache  [19] Rü Included\n",
      "    Rücksprache [25] Rü Missing\n",
      "    Included [41] Direkt AUD\n",
      "    Included [25] Control\n",
      "    Rü Included [2] Control\n",
      "    Rü Included [17] AUD Gesamt\n",
      "    Direkt AUD [35] AUD Gesamt\n",
      "    \n"
     ]
    }
   ],
   "source": [
    "get_sankey_parameter(data.query(\"(center=='d') and (screen_date>'2021-07-01')\"))"
   ]
  },
  {
   "cell_type": "markdown",
   "id": "4868c2bf-af7a-4e35-aad1-dcbcce8e2e63",
   "metadata": {},
   "source": [
    "<img width=\"700\" height=\"118\" src='images/sankey_dresden_after_july.png' />"
   ]
  },
  {
   "cell_type": "code",
   "execution_count": null,
   "id": "2cfedfb8-1033-4bdb-9080-7a1c06c35615",
   "metadata": {},
   "outputs": [
    {
     "data": {
      "text/html": [
       "<iframe src=\"https://sankeymatic.com/build/\" width=\"1200\" height=\"1000\"></iframe>\n"
      ],
      "text/plain": [
       "<IPython.core.display.HTML object>"
      ]
     },
     "metadata": {},
     "output_type": "display_data"
    }
   ],
   "source": [
    "%%html\n",
    "<iframe src=\"https://sankeymatic.com/build/\" width=\"1200\" height=\"1000\"></iframe>"
   ]
  },
  {
   "cell_type": "markdown",
   "id": "9673b4c1-9787-4fc9-b267-0dc1cf6eab6e",
   "metadata": {},
   "source": [
    "\n",
    "Screened: 45 of 236 (19%) included\n",
    "\n",
    "BA: 45 of 52 (86%) included."
   ]
  },
  {
   "cell_type": "markdown",
   "id": "67038943-2169-49d2-b176-16399dbf67dc",
   "metadata": {},
   "source": [
    "## Mannheim"
   ]
  },
  {
   "cell_type": "code",
   "execution_count": null,
   "id": "8459aece-7501-4add-854b-f1cf1f48cb36",
   "metadata": {},
   "outputs": [
    {
     "name": "stdout",
     "output_type": "stream",
     "text": [
      "\n",
      "    Teilnehmer [287] Included \n",
      "    Teilnehmer [89] Not Included \n",
      "    Teilnehmer [230] Rücksprache \n",
      "    Teilnehmer [114] Missing \n",
      "    Rücksprache [43] Rü Excluded\n",
      "    Rücksprache  [144] Rü Included\n",
      "    Rücksprache [34] Rü Missing\n",
      "    Included [210] Direkt AUD\n",
      "    Included [75] Control\n",
      "    Rü Included [20] Control\n",
      "    Rü Included [123] AUD Gesamt\n",
      "    Direkt AUD [224] AUD Gesamt\n",
      "    \n"
     ]
    }
   ],
   "source": [
    "get_sankey_parameter(data.query(\"(center=='m')\"))"
   ]
  },
  {
   "cell_type": "code",
   "execution_count": null,
   "id": "7f700f36-774b-4c33-a01a-e72b88cfc5c8",
   "metadata": {},
   "outputs": [
    {
     "data": {
      "text/html": [
       "<iframe src=\"https://sankeymatic.com/build/\" width=\"1200\" height=\"1000\"></iframe>\n"
      ],
      "text/plain": [
       "<IPython.core.display.HTML object>"
      ]
     },
     "metadata": {},
     "output_type": "display_data"
    }
   ],
   "source": [
    "%%html\n",
    "<iframe src=\"https://sankeymatic.com/build/\" width=\"1200\" height=\"1000\"></iframe>"
   ]
  },
  {
   "cell_type": "markdown",
   "id": "a211c2a7-0043-46e5-b96d-4a1c60630b27",
   "metadata": {},
   "source": [
    "<img width=\"1000\" height=\"360\" src='images/sankey_mannheim.png' />"
   ]
  },
  {
   "cell_type": "markdown",
   "id": "debf24d7-6a02-4979-af1b-306c6ba940d1",
   "metadata": {},
   "source": [
    "Screened: 211 of 720 (29%) included.\n",
    "\n",
    "BA: 211 of 347 (60%) included."
   ]
  },
  {
   "cell_type": "markdown",
   "id": "ccdb655e-fe86-4e2b-b0f4-5047197182f6",
   "metadata": {},
   "source": [
    "## Berlin"
   ]
  },
  {
   "cell_type": "code",
   "execution_count": null,
   "id": "fb3724b9-d128-491a-a4ae-9f2e3a4efa28",
   "metadata": {},
   "outputs": [
    {
     "name": "stdout",
     "output_type": "stream",
     "text": [
      "\n",
      "    Teilnehmer [325] Included \n",
      "    Teilnehmer [164] Not Included \n",
      "    Teilnehmer [290] Rücksprache \n",
      "    Teilnehmer [318] Missing \n",
      "    Rücksprache [30] Rü Excluded\n",
      "    Rücksprache  [87] Rü Included\n",
      "    Rücksprache [124] Rü Missing\n",
      "    Included [175] Direkt AUD\n",
      "    Included [108] Control\n",
      "    Rü Included [19] Control\n",
      "    Rü Included [59] AUD Gesamt\n",
      "    Direkt AUD [196] AUD Gesamt\n",
      "    \n"
     ]
    }
   ],
   "source": [
    "get_sankey_parameter(data.query(\"(center=='b')\"))"
   ]
  },
  {
   "cell_type": "code",
   "execution_count": null,
   "id": "e361858b-c8e7-4db9-879e-d0dd6b61442b",
   "metadata": {},
   "outputs": [
    {
     "data": {
      "text/html": [
       "<iframe src=\"https://sankeymatic.com/build/\" width=\"1200\" height=\"1000\"></iframe>\n"
      ],
      "text/plain": [
       "<IPython.core.display.HTML object>"
      ]
     },
     "metadata": {},
     "output_type": "display_data"
    }
   ],
   "source": [
    "%%html\n",
    "<iframe src=\"https://sankeymatic.com/build/\" width=\"1200\" height=\"1000\"></iframe>"
   ]
  },
  {
   "cell_type": "markdown",
   "id": "bc7ee9f7-88e9-44db-a623-0fcd2872f361",
   "metadata": {},
   "source": [
    "<img width=\"1000\" height=\"510\" src='images/sankey_berlin.png' />"
   ]
  },
  {
   "cell_type": "markdown",
   "id": "4f2a4391-8404-4ead-8b40-466dece507bd",
   "metadata": {},
   "source": [
    "Screened: 166 of 1097 (15%) included.\n",
    "\n",
    "BA: 166 of 347 (65%) included."
   ]
  },
  {
   "cell_type": "code",
   "execution_count": null,
   "id": "1e06d3fd-9af6-4fff-9e8b-31aca7781bda",
   "metadata": {},
   "outputs": [],
   "source": [
    "#export\n",
    "@patch\n",
    "def decode_wm_strings(self:WMDataProvider, gbe_data):\n",
    "    df = self.decode_gbe_strings(gbe_data, 'WorkingMemoryGame')\n",
    "    df['success'] = df.success.astype(int)\n",
    "    return df"
   ]
  },
  {
   "cell_type": "code",
   "execution_count": null,
   "id": "7bf4f485-4939-48cd-a634-167e996cad1c",
   "metadata": {},
   "outputs": [],
   "source": [
    "gbe_data = dp.get_gbe_data()\n",
    "df = dp.decode_wm_strings(gbe_data)"
   ]
  },
  {
   "cell_type": "markdown",
   "id": "18878cff-575f-45e5-b432-229408016290",
   "metadata": {},
   "source": [
    "> The raw data gives us trial ids.  However, the different trial types (no distractor, encoding distractor, delayed distractor) and levels (2 to 10) are not yet shown. "
   ]
  },
  {
   "cell_type": "code",
   "execution_count": null,
   "id": "67a21443-f0e6-406f-88d7-b4b311d361fe",
   "metadata": {},
   "outputs": [
    {
     "data": {
      "text/html": [
       "<div>\n",
       "<style scoped>\n",
       "    .dataframe tbody tr th:only-of-type {\n",
       "        vertical-align: middle;\n",
       "    }\n",
       "\n",
       "    .dataframe tbody tr th {\n",
       "        vertical-align: top;\n",
       "    }\n",
       "\n",
       "    .dataframe thead th {\n",
       "        text-align: right;\n",
       "    }\n",
       "</style>\n",
       "<table border=\"1\" class=\"dataframe\">\n",
       "  <thead>\n",
       "    <tr style=\"text-align: right;\">\n",
       "      <th></th>\n",
       "      <th>gbe_index</th>\n",
       "      <th>trial_number</th>\n",
       "      <th>timestarted</th>\n",
       "      <th>timesubmitted</th>\n",
       "      <th>timetaken</th>\n",
       "      <th>trialid</th>\n",
       "      <th>trialrot</th>\n",
       "      <th>success</th>\n",
       "    </tr>\n",
       "  </thead>\n",
       "  <tbody>\n",
       "    <tr>\n",
       "      <th>0</th>\n",
       "      <td>b001_001</td>\n",
       "      <td>1</td>\n",
       "      <td>2020-02-24 20:48:52.812</td>\n",
       "      <td>2020-02-24 20:52:50.167</td>\n",
       "      <td>1.506</td>\n",
       "      <td>420</td>\n",
       "      <td>1</td>\n",
       "      <td>1</td>\n",
       "    </tr>\n",
       "    <tr>\n",
       "      <th>1</th>\n",
       "      <td>b001_001</td>\n",
       "      <td>2</td>\n",
       "      <td>2020-02-24 20:48:52.812</td>\n",
       "      <td>2020-02-24 20:52:50.167</td>\n",
       "      <td>1.471</td>\n",
       "      <td>379</td>\n",
       "      <td>1</td>\n",
       "      <td>1</td>\n",
       "    </tr>\n",
       "    <tr>\n",
       "      <th>2</th>\n",
       "      <td>b001_001</td>\n",
       "      <td>3</td>\n",
       "      <td>2020-02-24 20:48:52.812</td>\n",
       "      <td>2020-02-24 20:52:50.167</td>\n",
       "      <td>1.154</td>\n",
       "      <td>343</td>\n",
       "      <td>1</td>\n",
       "      <td>1</td>\n",
       "    </tr>\n",
       "    <tr>\n",
       "      <th>3</th>\n",
       "      <td>b001_001</td>\n",
       "      <td>4</td>\n",
       "      <td>2020-02-24 20:48:52.812</td>\n",
       "      <td>2020-02-24 20:52:50.167</td>\n",
       "      <td>2.004</td>\n",
       "      <td>463</td>\n",
       "      <td>0</td>\n",
       "      <td>1</td>\n",
       "    </tr>\n",
       "    <tr>\n",
       "      <th>4</th>\n",
       "      <td>b001_001</td>\n",
       "      <td>5</td>\n",
       "      <td>2020-02-24 20:48:52.812</td>\n",
       "      <td>2020-02-24 20:52:50.167</td>\n",
       "      <td>1.589</td>\n",
       "      <td>616</td>\n",
       "      <td>3</td>\n",
       "      <td>1</td>\n",
       "    </tr>\n",
       "    <tr>\n",
       "      <th>...</th>\n",
       "      <td>...</td>\n",
       "      <td>...</td>\n",
       "      <td>...</td>\n",
       "      <td>...</td>\n",
       "      <td>...</td>\n",
       "      <td>...</td>\n",
       "      <td>...</td>\n",
       "      <td>...</td>\n",
       "    </tr>\n",
       "    <tr>\n",
       "      <th>82226</th>\n",
       "      <td>m271_010</td>\n",
       "      <td>28</td>\n",
       "      <td>2021-07-21 10:25:34.373</td>\n",
       "      <td>2021-07-21 10:29:45.451</td>\n",
       "      <td>0.613</td>\n",
       "      <td>1646</td>\n",
       "      <td>1</td>\n",
       "      <td>0</td>\n",
       "    </tr>\n",
       "    <tr>\n",
       "      <th>82227</th>\n",
       "      <td>m271_010</td>\n",
       "      <td>29</td>\n",
       "      <td>2021-07-21 10:25:34.373</td>\n",
       "      <td>2021-07-21 10:29:45.451</td>\n",
       "      <td>2.297</td>\n",
       "      <td>2499</td>\n",
       "      <td>0</td>\n",
       "      <td>0</td>\n",
       "    </tr>\n",
       "    <tr>\n",
       "      <th>82228</th>\n",
       "      <td>m271_010</td>\n",
       "      <td>30</td>\n",
       "      <td>2021-07-21 10:25:34.373</td>\n",
       "      <td>2021-07-21 10:29:45.451</td>\n",
       "      <td>2.573</td>\n",
       "      <td>1644</td>\n",
       "      <td>3</td>\n",
       "      <td>0</td>\n",
       "    </tr>\n",
       "    <tr>\n",
       "      <th>82229</th>\n",
       "      <td>m271_010</td>\n",
       "      <td>31</td>\n",
       "      <td>2021-07-21 10:25:34.373</td>\n",
       "      <td>2021-07-21 10:29:45.451</td>\n",
       "      <td>3.638</td>\n",
       "      <td>2586</td>\n",
       "      <td>2</td>\n",
       "      <td>1</td>\n",
       "    </tr>\n",
       "    <tr>\n",
       "      <th>82230</th>\n",
       "      <td>m271_010</td>\n",
       "      <td>32</td>\n",
       "      <td>2021-07-21 10:25:34.373</td>\n",
       "      <td>2021-07-21 10:29:45.451</td>\n",
       "      <td>4.089</td>\n",
       "      <td>2146</td>\n",
       "      <td>0</td>\n",
       "      <td>1</td>\n",
       "    </tr>\n",
       "  </tbody>\n",
       "</table>\n",
       "<p>82231 rows × 8 columns</p>\n",
       "</div>"
      ],
      "text/plain": [
       "      gbe_index  trial_number             timestarted           timesubmitted  \\\n",
       "0      b001_001             1 2020-02-24 20:48:52.812 2020-02-24 20:52:50.167   \n",
       "1      b001_001             2 2020-02-24 20:48:52.812 2020-02-24 20:52:50.167   \n",
       "2      b001_001             3 2020-02-24 20:48:52.812 2020-02-24 20:52:50.167   \n",
       "3      b001_001             4 2020-02-24 20:48:52.812 2020-02-24 20:52:50.167   \n",
       "4      b001_001             5 2020-02-24 20:48:52.812 2020-02-24 20:52:50.167   \n",
       "...         ...           ...                     ...                     ...   \n",
       "82226  m271_010            28 2021-07-21 10:25:34.373 2021-07-21 10:29:45.451   \n",
       "82227  m271_010            29 2021-07-21 10:25:34.373 2021-07-21 10:29:45.451   \n",
       "82228  m271_010            30 2021-07-21 10:25:34.373 2021-07-21 10:29:45.451   \n",
       "82229  m271_010            31 2021-07-21 10:25:34.373 2021-07-21 10:29:45.451   \n",
       "82230  m271_010            32 2021-07-21 10:25:34.373 2021-07-21 10:29:45.451   \n",
       "\n",
       "      timetaken trialid trialrot  success  \n",
       "0         1.506     420        1        1  \n",
       "1         1.471     379        1        1  \n",
       "2         1.154     343        1        1  \n",
       "3         2.004     463        0        1  \n",
       "4         1.589     616        3        1  \n",
       "...         ...     ...      ...      ...  \n",
       "82226     0.613    1646        1        0  \n",
       "82227     2.297    2499        0        0  \n",
       "82228     2.573    1644        3        0  \n",
       "82229     3.638    2586        2        1  \n",
       "82230     4.089    2146        0        1  \n",
       "\n",
       "[82231 rows x 8 columns]"
      ]
     },
     "execution_count": null,
     "metadata": {},
     "output_type": "execute_result"
    }
   ],
   "source": [
    "df[['gbe_index','trial_number','timestarted','timesubmitted','timetaken','trialid','trialrot','success']]"
   ]
  },
  {
   "cell_type": "markdown",
   "id": "5ee97e9d-7f37-4b4e-b5e4-d6598608a69c",
   "metadata": {},
   "source": [
    "### Adding trial types and levels\n",
    "> Here, werial types based on the app specifications.  We also double check that everything was specified correctly, by comparing the trial types with the app resources. add the t"
   ]
  },
  {
   "cell_type": "code",
   "execution_count": null,
   "id": "e4c5a8f3-54a4-414d-b1ac-c099b6b694f9",
   "metadata": {},
   "outputs": [],
   "source": [
    "#export\n",
    "@patch\n",
    "@get_efficiently\n",
    "def get_wm_trial_types(self:WMDataProvider):\n",
    "    '''This checks that each trial type follows the appropriate specifications.'''\n",
    "    types = open(os.path.join(self.external, \"types.xml\"),\"r\", encoding='UTF-8').read().encode('utf-8')\n",
    "    types_dict = xmltodict.parse(types)\n",
    "    type_list = types_dict['trials']['trialtype']\n",
    "    type_df = []\n",
    "    for i, t in enumerate(type_list):\n",
    "        # Getting the type and difficulty\n",
    "        trial_type = t['@type']\n",
    "        level = int(t['@difficulty'])\n",
    "        if level > 10:\n",
    "            continue\n",
    "        # Geting individual trial specifications for each type\n",
    "        for trial in t['trial']:\n",
    "            trial_dict = {}\n",
    "            trial_dict['trialid'] = trial['@id'] #id\n",
    "            trial_dict['trial_type'] = trial_type #\n",
    "            trial_dict['level'] = level\n",
    "\n",
    "            # Getting additional information\n",
    "\n",
    "            board = trial['board']\n",
    "            # Checking if circles were shown delayed\n",
    "            if type(board) == collections.OrderedDict:\n",
    "                board = [board]\n",
    "            trial_dict['trial_boards'] = []\n",
    "            # Checking if the trial had distractors\n",
    "            has_distractor = False\n",
    "            trial_dict['number_of_boards'] = 0\n",
    "            for b in board:\n",
    "                try:\n",
    "                    if '#text' in b.keys():\n",
    "                        trial_dict['trial_boards'].append(b['#text'])\n",
    "                        trial_dict['number_of_boards'] += 1\n",
    "                    if '#text' in b.keys() and 'D' in b['#text']:\n",
    "                        has_distractor = True\n",
    "                        break\n",
    "                except:\n",
    "                    print(trial_dict, board)\n",
    "            is_delayed = int(trial_dict['number_of_boards'] > 1)\n",
    "            trial_dict['has_distractor'] = int(has_distractor)\n",
    "            trial_dict['is_delayed'] = int(trial_dict['number_of_boards'] > 1)\n",
    "            type_df.append(pd.Series(trial_dict))\n",
    "    type_df = pd.DataFrame(type_df)\n",
    "    type_df.trial_type.replace({'0':'no_distractor_1',\n",
    "                               '1':'encoding_distractor',\n",
    "                               '2':'delayed_distractor',\n",
    "                               '3':'no_distractor_2'}, inplace = True)\n",
    "    return type_df"
   ]
  },
  {
   "cell_type": "markdown",
   "id": "19eda59b-6bf9-420b-ae60-63710fa5ccc5",
   "metadata": {},
   "source": [
    "> Checking if each trial type is specified correctly:"
   ]
  },
  {
   "cell_type": "code",
   "execution_count": null,
   "id": "074e6e76-10fe-456a-b451-a78bfb7ed33e",
   "metadata": {},
   "outputs": [
    {
     "data": {
      "text/html": [
       "<div>\n",
       "<style scoped>\n",
       "    .dataframe tbody tr th:only-of-type {\n",
       "        vertical-align: middle;\n",
       "    }\n",
       "\n",
       "    .dataframe tbody tr th {\n",
       "        vertical-align: top;\n",
       "    }\n",
       "\n",
       "    .dataframe thead th {\n",
       "        text-align: right;\n",
       "    }\n",
       "</style>\n",
       "<table border=\"1\" class=\"dataframe\">\n",
       "  <thead>\n",
       "    <tr style=\"text-align: right;\">\n",
       "      <th></th>\n",
       "      <th>has_distractor</th>\n",
       "      <th>is_delayed</th>\n",
       "    </tr>\n",
       "    <tr>\n",
       "      <th>trial_type</th>\n",
       "      <th></th>\n",
       "      <th></th>\n",
       "    </tr>\n",
       "  </thead>\n",
       "  <tbody>\n",
       "    <tr>\n",
       "      <th>4</th>\n",
       "      <td>False</td>\n",
       "      <td>True</td>\n",
       "    </tr>\n",
       "    <tr>\n",
       "      <th>5</th>\n",
       "      <td>True</td>\n",
       "      <td>True</td>\n",
       "    </tr>\n",
       "    <tr>\n",
       "      <th>delayed_distractor</th>\n",
       "      <td>True</td>\n",
       "      <td>True</td>\n",
       "    </tr>\n",
       "    <tr>\n",
       "      <th>encoding_distractor</th>\n",
       "      <td>True</td>\n",
       "      <td>False</td>\n",
       "    </tr>\n",
       "    <tr>\n",
       "      <th>no_distractor_1</th>\n",
       "      <td>False</td>\n",
       "      <td>False</td>\n",
       "    </tr>\n",
       "    <tr>\n",
       "      <th>no_distractor_2</th>\n",
       "      <td>False</td>\n",
       "      <td>False</td>\n",
       "    </tr>\n",
       "  </tbody>\n",
       "</table>\n",
       "</div>"
      ],
      "text/plain": [
       "                     has_distractor  is_delayed\n",
       "trial_type                                     \n",
       "4                             False        True\n",
       "5                              True        True\n",
       "delayed_distractor             True        True\n",
       "encoding_distractor            True       False\n",
       "no_distractor_1               False       False\n",
       "no_distractor_2               False       False"
      ]
     },
     "execution_count": null,
     "metadata": {},
     "output_type": "execute_result"
    }
   ],
   "source": [
    "type_df = dp.get_wm_trial_types()\n",
    "type_df.groupby(['trial_type'])[['has_distractor','is_delayed']].mean().astype(bool)"
   ]
  },
  {
   "cell_type": "markdown",
   "id": "57157e86-1c7b-4e73-ba63-7aff0d24f2d6",
   "metadata": {},
   "source": [
    "> Adding trial types and levels to dataframe."
   ]
  },
  {
   "cell_type": "code",
   "execution_count": null,
   "id": "73b1bf83-e320-4c0a-b82a-3d3ef40df3e8",
   "metadata": {},
   "outputs": [],
   "source": [
    "#export\n",
    "@patch\n",
    "def add_trial_types(self:WMDataProvider, df):\n",
    "    type_df = self.get_wm_trial_types()\n",
    "    if 'trial_type' in df.columns:\n",
    "        df = df.drop.columns('trial_type')\n",
    "    df = df.merge(type_df[['trialid','trial_type','level']], on = 'trialid', how = 'left', validate = 'many_to_one')\n",
    "    return df\n",
    "    "
   ]
  },
  {
   "cell_type": "code",
   "execution_count": null,
   "id": "3b99faf0-edfb-49b5-91ef-ac9872db721c",
   "metadata": {},
   "outputs": [],
   "source": [
    "df = dp.add_trial_types(df)"
   ]
  },
  {
   "cell_type": "markdown",
   "id": "f04aebe1-8ab4-4bae-986b-e94de4fc25f3",
   "metadata": {},
   "source": [
    "#### Checking trial types in dataset"
   ]
  },
  {
   "cell_type": "code",
   "execution_count": null,
   "id": "f3228280-d2d9-4243-bad9-7ef5f75e8cb6",
   "metadata": {},
   "outputs": [
    {
     "data": {
      "text/plain": [
       "no_distractor_1        20554\n",
       "encoding_distractor    20510\n",
       "no_distractor_2        20493\n",
       "delayed_distractor     20284\n",
       "5                        195\n",
       "4                        195\n",
       "Name: trial_type, dtype: int64"
      ]
     },
     "execution_count": null,
     "metadata": {},
     "output_type": "execute_result"
    }
   ],
   "source": [
    "df.trial_type.value_counts()"
   ]
  },
  {
   "cell_type": "markdown",
   "id": "45d2521d-e8fd-4e2b-9816-dc72c0c6ece2",
   "metadata": {},
   "source": [
    "> Warning: Note that some participants completed old versions of the task (as some trials were associated with trial types 4 and 5)."
   ]
  },
  {
   "cell_type": "markdown",
   "id": "40627e4d-6de1-4408-a34e-293be06c4dd1",
   "metadata": {},
   "source": [
    "### Getting the data"
   ]
  },
  {
   "cell_type": "code",
   "execution_count": null,
   "id": "1e0d3724-d0fd-4c14-81ee-3e022c10fd9c",
   "metadata": {},
   "outputs": [],
   "source": [
    "#export\n",
    "@patch\n",
    "@get_efficiently\n",
    "def get_wm_data(self:WMDataProvider):\n",
    "    gbe_data = self.get_gbe_data()\n",
    "    df = self.decode_wm_strings(gbe_data)\n",
    "    df = self.add_trial_types(df)\n",
    "    return df"
   ]
  }
 ],
 "metadata": {
  "kernelspec": {
   "display_name": "Python 3 (ipykernel)",
   "language": "python",
   "name": "python3"
  }
 },
 "nbformat": 4,
 "nbformat_minor": 5
}
