{
 "cells": [
  {
   "cell_type": "markdown",
   "id": "b26e1bbc-d928-45d8-ad2c-d6e07252b23a",
   "metadata": {},
   "source": [
    "# Init\n",
    "This notebooks initializes the functions that allow us to import other notebooks as modules. We use this method, because it allows us to create and import functions with IPython syntax (useful to run functions with %R magic).\n",
    "\n",
    "It also sets some plotting defaults, which probabaly would be better done elsewhere."
   ]
  },
  {
   "cell_type": "code",
   "execution_count": null,
   "id": "acc40de2-bc12-4549-8ae5-d043e6ba3c33",
   "metadata": {},
   "outputs": [],
   "source": [
    "# This allows us to run scripts from the src directory.\n",
    "module_path = os.path.abspath(os.path.join('/Users/hilmarzech/Projects/WP1/analysis/src')) # This path might not work on windows machines, might need '\\\\' instead of '/'\n",
    "if module_path not in sys.path:\n",
    "    sys.path.append(module_path)\n",
    "# These imports help reload functions from other notebooks after making changes (e.g, dp=reload(dp))\n",
    "%load_ext autoreload\n",
    "%autoreload 2\n",
    "from importlib import reload\n",
    "# These imports are required to make other notebooks loadable\n",
    "import io, os, sys, types, random\n",
    "from IPython import get_ipython\n",
    "from nbformat import read\n",
    "from IPython.core.interactiveshell import InteractiveShell\n",
    "# Some setup to make matlab plots look better\n",
    "from matplotlib.axes._axes import _log as matplotlib_axes_logger\n",
    "matplotlib_axes_logger.setLevel('ERROR')\n",
    "%matplotlib inline\n",
    "%config InlineBackend.figure_format = 'retina'\n",
    "sns.set(rc={'figure.figsize':(11,6)})\n",
    "sns.set_style(\"whitegrid\", {'axes.grid' : False})"
   ]
  },
  {
   "cell_type": "code",
   "execution_count": null,
   "id": "b23e3168-5c3d-483c-87ed-bbe26af4a3e4",
   "metadata": {},
   "outputs": [],
   "source": [
    "from wp1 import pandas_extensions\n",
    "@pd.api.extensions.register_dataframe_accessor(\"utils\") # Extending dataframe functionality\n",
    "class DataFrameExtensions(pandas_extensions.DataFrameExtensions):\n",
    "    pass\n",
    "@pd.api.extensions.register_series_accessor(\"utils\") # Extending dataframe functionality\n",
    "class SeriesExtensions(pandas_extensions.SeriesExtensions):\n",
    "    pass"
   ]
  },
  {
   "cell_type": "code",
   "execution_count": null,
   "id": "8b2004ae-5560-4cf5-9796-526c6117164d",
   "metadata": {},
   "outputs": [],
   "source": [
    "def find_notebook(fullname, path=None):\n",
    "    \"\"\"find a notebook, given its fully qualified name and an optional path\n",
    "    \n",
    "    This turns \"foo.bar\" into \"foo/bar.ipynb\"\n",
    "    and tries turning \"Foo_Bar\" into \"Foo Bar\" if Foo_Bar\n",
    "    does not exist.\n",
    "    \"\"\"\n",
    "    name = fullname.rsplit('.', 1)[-1]\n",
    "    if not path:\n",
    "        path = ['']\n",
    "    for d in path:\n",
    "        nb_path = os.path.join(d, name + \".ipynb\")\n",
    "        if os.path.isfile(nb_path):\n",
    "            return nb_path\n",
    "        # let import Notebook_Name find \"Notebook Name.ipynb\"\n",
    "        nb_path = nb_path.replace(\"_\", \" \")\n",
    "        if os.path.isfile(nb_path):\n",
    "            return nb_path"
   ]
  },
  {
   "cell_type": "code",
   "execution_count": null,
   "id": "2f78242b-610a-4b72-9873-d0a32565c618",
   "metadata": {},
   "outputs": [],
   "source": [
    "class NotebookLoader(object):\n",
    "    \"\"\"Module Loader for Jupyter Notebooks\"\"\"\n",
    "    def __init__(self, path=None):\n",
    "        self.shell = InteractiveShell.instance()\n",
    "        self.path = path\n",
    "    \n",
    "    def load_module(self, fullname):\n",
    "        \"\"\"import a notebook as a module\"\"\"\n",
    "        path = find_notebook(fullname, self.path)\n",
    "        \n",
    "        #print (\"importing Jupyter notebook from %s\" % path)\n",
    "                                       \n",
    "        # load the notebook object\n",
    "        with io.open(path, 'r', encoding='utf-8') as f:\n",
    "            nb = read(f, 4)\n",
    "        \n",
    "        \n",
    "        # create the module and add it to sys.modules\n",
    "        # if name in sys.modules:\n",
    "        #    return sys.modules[name]\n",
    "        mod = types.ModuleType(fullname)\n",
    "        mod.__file__ = path\n",
    "        mod.__loader__ = self\n",
    "        mod.__dict__['get_ipython'] = get_ipython\n",
    "        sys.modules[fullname] = mod\n",
    "        \n",
    "        # extra work to ensure that magics that would affect the user_ns\n",
    "        # actually affect the notebook module's ns\n",
    "        save_user_ns = self.shell.user_ns\n",
    "        self.shell.user_ns = mod.__dict__\n",
    "        \n",
    "        try:\n",
    "          for cell in nb.cells:\n",
    "            if cell.cell_type == 'code':\n",
    "                # transform the input to executable Python\n",
    "                code = self.shell.input_transformer_manager.transform_cell(cell.source)\n",
    "                # run the code in themodule\n",
    "                exec(code, mod.__dict__)\n",
    "        finally:\n",
    "            self.shell.user_ns = save_user_ns\n",
    "        return mod"
   ]
  },
  {
   "cell_type": "code",
   "execution_count": null,
   "id": "3da7c9f0-c60c-4c28-8b1f-47b92e6cc7a1",
   "metadata": {},
   "outputs": [],
   "source": [
    "class NotebookFinder(object):\n",
    "    \"\"\"Module finder that locates Jupyter Notebooks\"\"\"\n",
    "    def __init__(self):\n",
    "        self.loaders = {}\n",
    "    \n",
    "    def find_module(self, fullname, path=None):\n",
    "        nb_path = find_notebook(fullname, path)\n",
    "        if not nb_path:\n",
    "            return\n",
    "        \n",
    "        key = path\n",
    "        if path:\n",
    "            # lists aren't hashable\n",
    "            key = os.path.sep.join(path)\n",
    "        \n",
    "        if key not in self.loaders:\n",
    "            self.loaders[key] = NotebookLoader(path)\n",
    "        return self.loaders[key]\n",
    "\n"
   ]
  },
  {
   "cell_type": "code",
   "execution_count": null,
   "id": "49b5974c-41d3-4dab-8271-6f0ed65dc655",
   "metadata": {},
   "outputs": [],
   "source": [
    "sys.meta_path.append(NotebookFinder())"
   ]
  }
 ],
 "metadata": {
  "kernelspec": {
   "display_name": "Python 3 (ipykernel)",
   "language": "python",
   "name": "python3"
  }
 },
 "nbformat": 4,
 "nbformat_minor": 5
}
